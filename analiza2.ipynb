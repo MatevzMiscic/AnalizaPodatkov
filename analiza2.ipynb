{
 "cells": [
  {
   "cell_type": "markdown",
   "metadata": {},
   "source": [
    "# Analiza tekmovnj na Codeforces"
   ]
  },
  {
   "cell_type": "markdown",
   "metadata": {},
   "source": [
    "## Priprava\n",
    "Najprej moramo naložiti pandas in si pripraviti podatke, ki jih bomo potrebovali za analizo."
   ]
  },
  {
   "cell_type": "code",
   "execution_count": 1,
   "metadata": {},
   "outputs": [],
   "source": [
    "import pandas as pd\n",
    "import os.path\n",
    "\n",
    "pd.options.display.max_rows = 20\n",
    "\n",
    "%matplotlib inline\n",
    "\n",
    "# nalozimo razpredelnice\n",
    "users_path = os.path.join(\"obdelani_podatki\", \"users.csv\")\n",
    "users = pd.read_csv(users_path, index_col='id')\n",
    "\n",
    "tasks_path = os.path.join(\"obdelani_podatki\", \"tasks.csv\")\n",
    "tasks = pd.read_csv(tasks_path, index_col='id')\n",
    "\n",
    "submissions_path = os.path.join(\"obdelani_podatki\", \"submissions.csv\")\n",
    "submissions = pd.read_csv(submissions_path, index_col='id')"
   ]
  },
  {
   "cell_type": "code",
   "execution_count": 2,
   "metadata": {},
   "outputs": [
    {
     "data": {
      "text/html": [
       "<div>\n",
       "<style scoped>\n",
       "    .dataframe tbody tr th:only-of-type {\n",
       "        vertical-align: middle;\n",
       "    }\n",
       "\n",
       "    .dataframe tbody tr th {\n",
       "        vertical-align: top;\n",
       "    }\n",
       "\n",
       "    .dataframe thead th {\n",
       "        text-align: right;\n",
       "    }\n",
       "</style>\n",
       "<table border=\"1\" class=\"dataframe\">\n",
       "  <thead>\n",
       "    <tr style=\"text-align: right;\">\n",
       "      <th></th>\n",
       "      <th>name</th>\n",
       "      <th>rank</th>\n",
       "      <th>best_place</th>\n",
       "      <th>country</th>\n",
       "    </tr>\n",
       "    <tr>\n",
       "      <th>id</th>\n",
       "      <th></th>\n",
       "      <th></th>\n",
       "      <th></th>\n",
       "      <th></th>\n",
       "    </tr>\n",
       "  </thead>\n",
       "  <tbody>\n",
       "    <tr>\n",
       "      <th>1</th>\n",
       "      <td>HIR180</td>\n",
       "      <td>Legendary Grandmaster</td>\n",
       "      <td>1</td>\n",
       "      <td>Япония</td>\n",
       "    </tr>\n",
       "    <tr>\n",
       "      <th>2</th>\n",
       "      <td>9623</td>\n",
       "      <td>Master</td>\n",
       "      <td>1</td>\n",
       "      <td>Antarctica</td>\n",
       "    </tr>\n",
       "    <tr>\n",
       "      <th>3</th>\n",
       "      <td>stasio6</td>\n",
       "      <td>International Master</td>\n",
       "      <td>3</td>\n",
       "      <td>Poland</td>\n",
       "    </tr>\n",
       "    <tr>\n",
       "      <th>4</th>\n",
       "      <td>sigma425</td>\n",
       "      <td>International Grandmaster</td>\n",
       "      <td>4</td>\n",
       "      <td>Япония</td>\n",
       "    </tr>\n",
       "    <tr>\n",
       "      <th>5</th>\n",
       "      <td>jiangly</td>\n",
       "      <td>Legendary Grandmaster</td>\n",
       "      <td>1</td>\n",
       "      <td>China</td>\n",
       "    </tr>\n",
       "    <tr>\n",
       "      <th>...</th>\n",
       "      <td>...</td>\n",
       "      <td>...</td>\n",
       "      <td>...</td>\n",
       "      <td>...</td>\n",
       "    </tr>\n",
       "    <tr>\n",
       "      <th>14555</th>\n",
       "      <td>DoIudu123</td>\n",
       "      <td>Newbie</td>\n",
       "      <td>163</td>\n",
       "      <td>Taiwan</td>\n",
       "    </tr>\n",
       "    <tr>\n",
       "      <th>14556</th>\n",
       "      <td>logicccc</td>\n",
       "      <td>Unrated,</td>\n",
       "      <td>166</td>\n",
       "      <td>NaN</td>\n",
       "    </tr>\n",
       "    <tr>\n",
       "      <th>14557</th>\n",
       "      <td>EasyMode</td>\n",
       "      <td>Expert</td>\n",
       "      <td>174</td>\n",
       "      <td>Brazil</td>\n",
       "    </tr>\n",
       "    <tr>\n",
       "      <th>14558</th>\n",
       "      <td>foolish</td>\n",
       "      <td>Candidate Master</td>\n",
       "      <td>178</td>\n",
       "      <td>China</td>\n",
       "    </tr>\n",
       "    <tr>\n",
       "      <th>14559</th>\n",
       "      <td>el.duivel</td>\n",
       "      <td>Expert</td>\n",
       "      <td>192</td>\n",
       "      <td>Bangladesh</td>\n",
       "    </tr>\n",
       "  </tbody>\n",
       "</table>\n",
       "<p>14559 rows × 4 columns</p>\n",
       "</div>"
      ],
      "text/plain": [
       "            name                       rank  best_place     country\n",
       "id                                                                 \n",
       "1         HIR180      Legendary Grandmaster           1      Япония\n",
       "2           9623                     Master           1  Antarctica\n",
       "3        stasio6       International Master           3      Poland\n",
       "4       sigma425  International Grandmaster           4      Япония\n",
       "5        jiangly      Legendary Grandmaster           1       China\n",
       "...          ...                        ...         ...         ...\n",
       "14555  DoIudu123                     Newbie         163      Taiwan\n",
       "14556   logicccc                   Unrated,         166         NaN\n",
       "14557   EasyMode                     Expert         174      Brazil\n",
       "14558    foolish           Candidate Master         178       China\n",
       "14559  el.duivel                     Expert         192  Bangladesh\n",
       "\n",
       "[14559 rows x 4 columns]"
      ]
     },
     "execution_count": 2,
     "metadata": {},
     "output_type": "execute_result"
    }
   ],
   "source": [
    "users"
   ]
  },
  {
   "cell_type": "code",
   "execution_count": 3,
   "metadata": {},
   "outputs": [
    {
     "data": {
      "text/html": [
       "<div>\n",
       "<style scoped>\n",
       "    .dataframe tbody tr th:only-of-type {\n",
       "        vertical-align: middle;\n",
       "    }\n",
       "\n",
       "    .dataframe tbody tr th {\n",
       "        vertical-align: top;\n",
       "    }\n",
       "\n",
       "    .dataframe thead th {\n",
       "        text-align: right;\n",
       "    }\n",
       "</style>\n",
       "<table border=\"1\" class=\"dataframe\">\n",
       "  <thead>\n",
       "    <tr style=\"text-align: right;\">\n",
       "      <th></th>\n",
       "      <th>contest</th>\n",
       "      <th>number</th>\n",
       "    </tr>\n",
       "    <tr>\n",
       "      <th>id</th>\n",
       "      <th></th>\n",
       "      <th></th>\n",
       "    </tr>\n",
       "  </thead>\n",
       "  <tbody>\n",
       "    <tr>\n",
       "      <th>1</th>\n",
       "      <td>1</td>\n",
       "      <td>1</td>\n",
       "    </tr>\n",
       "    <tr>\n",
       "      <th>2</th>\n",
       "      <td>1</td>\n",
       "      <td>2</td>\n",
       "    </tr>\n",
       "    <tr>\n",
       "      <th>3</th>\n",
       "      <td>1</td>\n",
       "      <td>3</td>\n",
       "    </tr>\n",
       "    <tr>\n",
       "      <th>4</th>\n",
       "      <td>1</td>\n",
       "      <td>4</td>\n",
       "    </tr>\n",
       "    <tr>\n",
       "      <th>5</th>\n",
       "      <td>1</td>\n",
       "      <td>5</td>\n",
       "    </tr>\n",
       "    <tr>\n",
       "      <th>...</th>\n",
       "      <td>...</td>\n",
       "      <td>...</td>\n",
       "    </tr>\n",
       "    <tr>\n",
       "      <th>1171</th>\n",
       "      <td>189</td>\n",
       "      <td>2</td>\n",
       "    </tr>\n",
       "    <tr>\n",
       "      <th>1172</th>\n",
       "      <td>189</td>\n",
       "      <td>3</td>\n",
       "    </tr>\n",
       "    <tr>\n",
       "      <th>1173</th>\n",
       "      <td>189</td>\n",
       "      <td>4</td>\n",
       "    </tr>\n",
       "    <tr>\n",
       "      <th>1174</th>\n",
       "      <td>189</td>\n",
       "      <td>5</td>\n",
       "    </tr>\n",
       "    <tr>\n",
       "      <th>1175</th>\n",
       "      <td>189</td>\n",
       "      <td>6</td>\n",
       "    </tr>\n",
       "  </tbody>\n",
       "</table>\n",
       "<p>1175 rows × 2 columns</p>\n",
       "</div>"
      ],
      "text/plain": [
       "      contest  number\n",
       "id                   \n",
       "1           1       1\n",
       "2           1       2\n",
       "3           1       3\n",
       "4           1       4\n",
       "5           1       5\n",
       "...       ...     ...\n",
       "1171      189       2\n",
       "1172      189       3\n",
       "1173      189       4\n",
       "1174      189       5\n",
       "1175      189       6\n",
       "\n",
       "[1175 rows x 2 columns]"
      ]
     },
     "execution_count": 3,
     "metadata": {},
     "output_type": "execute_result"
    }
   ],
   "source": [
    "tasks"
   ]
  },
  {
   "cell_type": "code",
   "execution_count": 4,
   "metadata": {},
   "outputs": [
    {
     "data": {
      "text/html": [
       "<div>\n",
       "<style scoped>\n",
       "    .dataframe tbody tr th:only-of-type {\n",
       "        vertical-align: middle;\n",
       "    }\n",
       "\n",
       "    .dataframe tbody tr th {\n",
       "        vertical-align: top;\n",
       "    }\n",
       "\n",
       "    .dataframe thead th {\n",
       "        text-align: right;\n",
       "    }\n",
       "</style>\n",
       "<table border=\"1\" class=\"dataframe\">\n",
       "  <thead>\n",
       "    <tr style=\"text-align: right;\">\n",
       "      <th></th>\n",
       "      <th>user</th>\n",
       "      <th>task</th>\n",
       "      <th>proglang</th>\n",
       "      <th>time</th>\n",
       "    </tr>\n",
       "    <tr>\n",
       "      <th>id</th>\n",
       "      <th></th>\n",
       "      <th></th>\n",
       "      <th></th>\n",
       "      <th></th>\n",
       "    </tr>\n",
       "  </thead>\n",
       "  <tbody>\n",
       "    <tr>\n",
       "      <th>1</th>\n",
       "      <td>1</td>\n",
       "      <td>1</td>\n",
       "      <td>c++</td>\n",
       "      <td>1.0</td>\n",
       "    </tr>\n",
       "    <tr>\n",
       "      <th>2</th>\n",
       "      <td>1</td>\n",
       "      <td>2</td>\n",
       "      <td>c++</td>\n",
       "      <td>6.0</td>\n",
       "    </tr>\n",
       "    <tr>\n",
       "      <th>3</th>\n",
       "      <td>1</td>\n",
       "      <td>3</td>\n",
       "      <td>c++</td>\n",
       "      <td>65.0</td>\n",
       "    </tr>\n",
       "    <tr>\n",
       "      <th>4</th>\n",
       "      <td>1</td>\n",
       "      <td>4</td>\n",
       "      <td>c++</td>\n",
       "      <td>26.0</td>\n",
       "    </tr>\n",
       "    <tr>\n",
       "      <th>5</th>\n",
       "      <td>1</td>\n",
       "      <td>5</td>\n",
       "      <td>c++</td>\n",
       "      <td>26.0</td>\n",
       "    </tr>\n",
       "    <tr>\n",
       "      <th>...</th>\n",
       "      <td>...</td>\n",
       "      <td>...</td>\n",
       "      <td>...</td>\n",
       "      <td>...</td>\n",
       "    </tr>\n",
       "    <tr>\n",
       "      <th>234996</th>\n",
       "      <td>14559</td>\n",
       "      <td>451</td>\n",
       "      <td>c++</td>\n",
       "      <td>33.0</td>\n",
       "    </tr>\n",
       "    <tr>\n",
       "      <th>234997</th>\n",
       "      <td>14559</td>\n",
       "      <td>452</td>\n",
       "      <td>c++</td>\n",
       "      <td>52.0</td>\n",
       "    </tr>\n",
       "    <tr>\n",
       "      <th>234998</th>\n",
       "      <td>14559</td>\n",
       "      <td>453</td>\n",
       "      <td>c++</td>\n",
       "      <td>106.0</td>\n",
       "    </tr>\n",
       "    <tr>\n",
       "      <th>234999</th>\n",
       "      <td>14559</td>\n",
       "      <td>454</td>\n",
       "      <td>NaN</td>\n",
       "      <td>NaN</td>\n",
       "    </tr>\n",
       "    <tr>\n",
       "      <th>235000</th>\n",
       "      <td>14559</td>\n",
       "      <td>455</td>\n",
       "      <td>NaN</td>\n",
       "      <td>NaN</td>\n",
       "    </tr>\n",
       "  </tbody>\n",
       "</table>\n",
       "<p>235000 rows × 4 columns</p>\n",
       "</div>"
      ],
      "text/plain": [
       "         user  task proglang   time\n",
       "id                                 \n",
       "1           1     1      c++    1.0\n",
       "2           1     2      c++    6.0\n",
       "3           1     3      c++   65.0\n",
       "4           1     4      c++   26.0\n",
       "5           1     5      c++   26.0\n",
       "...       ...   ...      ...    ...\n",
       "234996  14559   451      c++   33.0\n",
       "234997  14559   452      c++   52.0\n",
       "234998  14559   453      c++  106.0\n",
       "234999  14559   454      NaN    NaN\n",
       "235000  14559   455      NaN    NaN\n",
       "\n",
       "[235000 rows x 4 columns]"
      ]
     },
     "execution_count": 4,
     "metadata": {},
     "output_type": "execute_result"
    }
   ],
   "source": [
    "submissions"
   ]
  },
  {
   "cell_type": "markdown",
   "metadata": {},
   "source": [
    "Spodobi se najprej na kratko razložiti, kako delujejo tekmovanja na codeforces in kaj pomenijo podatki v posameznih stolpcih tabel.\n",
    "Na spletni trani codeforces so pokosto tekmobanja, na katerih tekmujejo programerji iz celega sveta. Na vsakem tekmovanju je nekaj nalog (tasks), ki jih morajo tekmovalci (users) rešiti. To naredijo tako, da napišejo ustrezno kodo, ki jo zahteva naloga, in to kodo oddajo. Taki oddajo kode recemo tudi submission.\n",
    "\n",
    "**Users**  \n",
    "V tej tabeli se nahajajo podatki tekmovalcev, ki so tekmovali na zadnjih 100 tekmovanjjih.  \n",
    "Za vsakega imamo podano:\n",
    "* uporabniško ime\n",
    "* rank (glede na codeforces rating)\n",
    "* najboljšo uvrstitev na zadnjih 200 tekmovanjih\n",
    "* državo (ni zagotovila, da so podatki o državi resnični)\n",
    "\n",
    "**Tasks**  \n",
    "Za vsako nalogo imamo shranjeno tekmovanje, na katerem se je pojavila, in zaporedno številko naloge na tem tekmovanju.\n",
    "\n",
    "**Submissions**  \n",
    "Za vsako oddajo imamo podane naslednje podatke:\n",
    "* uporabnik, ki je naredil oddajo\n",
    "* naloga h kateri spada ta oddaja\n",
    "* programski jezik\n",
    "* čas od začetka tekmovanja"
   ]
  },
  {
   "cell_type": "markdown",
   "metadata": {},
   "source": [
    "Cilj naloge je ovreči ali potrditi naslednje hipoteze:\n",
    "* Programerji iz Azije so nadpovprečno dobri\n",
    "* Najboljši tekmovalci prvo nalogo rešijo v manj kot 10 minutah\n",
    "* Več kot 80 % od vseh oddaj je v jeziku c++, manj kot 5 % pa v pythonu\n",
    "* Tekmovalci, ki so bili na več tekmovanjih, so bolši kot tisti, ki so bili na manj tekmovanjih"
   ]
  },
  {
   "cell_type": "markdown",
   "metadata": {},
   "source": [
    "## Od kod so najbolši programerji\n",
    "V tem razdelku bomo ugotovili, iz katerih držav prihajajo najboljši tekmovalci na zadnih 200 tekmovanjih na codeforces.  \n",
    "Najprej si poglejmo, koliko tekmovalcev je iz katere države."
   ]
  },
  {
   "cell_type": "code",
   "execution_count": 5,
   "metadata": {},
   "outputs": [
    {
     "data": {
      "text/plain": [
       "country\n",
       "Kazakhstan        147\n",
       "Belarus           148\n",
       "Brazil            149\n",
       "Taiwan            156\n",
       "Poland            156\n",
       "Ukraine           169\n",
       "Iran              180\n",
       "United States     265\n",
       "Bangladesh        289\n",
       "South Korea       302\n",
       "Vietnam           332\n",
       "Япония            496\n",
       "Russia           1090\n",
       "India            1826\n",
       "China            1958\n",
       "dtype: int64"
      ]
     },
     "execution_count": 5,
     "metadata": {},
     "output_type": "execute_result"
    }
   ],
   "source": [
    "users_by_country = users.groupby(\"country\").size().sort_values().tail(15)\n",
    "users_by_country"
   ]
  },
  {
   "cell_type": "code",
   "execution_count": 6,
   "metadata": {},
   "outputs": [
    {
     "data": {
      "text/plain": [
       "<AxesSubplot:xlabel='country'>"
      ]
     },
     "execution_count": 6,
     "metadata": {},
     "output_type": "execute_result"
    },
    {
     "data": {
      "image/png": "[encoded data removed]",
      "text/plain": [
       "<Figure size 432x288 with 1 Axes>"
      ]
     },
     "metadata": {
      "needs_background": "light"
     },
     "output_type": "display_data"
    }
   ],
   "source": [
    "users_by_country.plot.bar()"
   ]
  },
  {
   "cell_type": "markdown",
   "metadata": {},
   "source": [
    "Kot bi pričakovali, je iz držav z večjo populacijo več tekmovalcev.\n",
    "Presenetljivo so ZDA šele na osmem mestu, čeprav so tretja največja država po populaciji in so dokaj razvita država. (Morda raje igrajo Fortnite kot pa programirajo)  \n",
    "Kako pa zgledajo podatki, če se omejimo samo na najboljših 4000 tekmovalcev."
   ]
  },
  {
   "cell_type": "code",
   "execution_count": 7,
   "metadata": {},
   "outputs": [
    {
     "data": {
      "text/plain": [
       "country\n",
       "Brazil            41\n",
       "Egypt             41\n",
       "Bangladesh        47\n",
       "Kazakhstan        48\n",
       "Taiwan            54\n",
       "Poland            56\n",
       "Ukraine           61\n",
       "Iran              65\n",
       "Vietnam           87\n",
       "United States     92\n",
       "South Korea       97\n",
       "Япония           182\n",
       "India            300\n",
       "Russia           344\n",
       "China            603\n",
       "dtype: int64"
      ]
     },
     "execution_count": 7,
     "metadata": {},
     "output_type": "execute_result"
    }
   ],
   "source": [
    "best_by_country = users.sort_values(\"best_place\")[:4000].groupby(\"country\").size().sort_values().tail(15)\n",
    "best_by_country"
   ]
  },
  {
   "cell_type": "code",
   "execution_count": 8,
   "metadata": {},
   "outputs": [
    {
     "data": {
      "text/plain": [
       "<AxesSubplot:xlabel='country'>"
      ]
     },
     "execution_count": 8,
     "metadata": {},
     "output_type": "execute_result"
    },
    {
     "data": {
      "image/png": "[encoded data removed]",
      "text/plain": [
       "<Figure size 432x288 with 1 Axes>"
      ]
     },
     "metadata": {
      "needs_background": "light"
     },
     "output_type": "display_data"
    }
   ],
   "source": [
    "best_by_country.plot.bar()"
   ]
  },
  {
   "cell_type": "markdown",
   "metadata": {},
   "source": [
    "Pomembna stvar, ki jo opazimo je, da je zelo majhen del tekmovalcev iz Indije med najboljšimi 10 % (oziroma med najboljšimi 4000 tekmovalci), če tekmovalce razvrstimo po njihovi najboljši uvrstitvi na zadnjih 200 tekmovanjih.  "
   ]
  },
  {
   "cell_type": "markdown",
   "metadata": {},
   "source": [
    "Poskusimo definirati boljšo oceno za to, kako dobri so tekmovalci iz posamezne države. Vsak tekmovalec si bo prislužil `201 - najboljša_uvrstitev` točk. Število točk neke države bo potem kar vsota točk vseh tekmovalcev iz te države. Od tu do konca razdelka bomo upoštevli le države z vsaj 30 tekmovalci."
   ]
  },
  {
   "cell_type": "code",
   "execution_count": 9,
   "metadata": {},
   "outputs": [
    {
     "data": {
      "text/html": [
       "<div>\n",
       "<style scoped>\n",
       "    .dataframe tbody tr th:only-of-type {\n",
       "        vertical-align: middle;\n",
       "    }\n",
       "\n",
       "    .dataframe tbody tr th {\n",
       "        vertical-align: top;\n",
       "    }\n",
       "\n",
       "    .dataframe thead th {\n",
       "        text-align: right;\n",
       "    }\n",
       "</style>\n",
       "<table border=\"1\" class=\"dataframe\">\n",
       "  <thead>\n",
       "    <tr style=\"text-align: right;\">\n",
       "      <th></th>\n",
       "      <th>country</th>\n",
       "      <th>score</th>\n",
       "      <th>users</th>\n",
       "    </tr>\n",
       "  </thead>\n",
       "  <tbody>\n",
       "    <tr>\n",
       "      <th>3</th>\n",
       "      <td>Antarctica</td>\n",
       "      <td>5652</td>\n",
       "      <td>44</td>\n",
       "    </tr>\n",
       "    <tr>\n",
       "      <th>5</th>\n",
       "      <td>Armenia</td>\n",
       "      <td>5150</td>\n",
       "      <td>36</td>\n",
       "    </tr>\n",
       "    <tr>\n",
       "      <th>11</th>\n",
       "      <td>Bangladesh</td>\n",
       "      <td>28911</td>\n",
       "      <td>289</td>\n",
       "    </tr>\n",
       "    <tr>\n",
       "      <th>12</th>\n",
       "      <td>Belarus</td>\n",
       "      <td>17127</td>\n",
       "      <td>148</td>\n",
       "    </tr>\n",
       "    <tr>\n",
       "      <th>19</th>\n",
       "      <td>Brazil</td>\n",
       "      <td>17118</td>\n",
       "      <td>149</td>\n",
       "    </tr>\n",
       "    <tr>\n",
       "      <th>...</th>\n",
       "      <td>...</td>\n",
       "      <td>...</td>\n",
       "      <td>...</td>\n",
       "    </tr>\n",
       "    <tr>\n",
       "      <th>120</th>\n",
       "      <td>Turkey</td>\n",
       "      <td>6432</td>\n",
       "      <td>47</td>\n",
       "    </tr>\n",
       "    <tr>\n",
       "      <th>122</th>\n",
       "      <td>Ukraine</td>\n",
       "      <td>21590</td>\n",
       "      <td>169</td>\n",
       "    </tr>\n",
       "    <tr>\n",
       "      <th>124</th>\n",
       "      <td>United States</td>\n",
       "      <td>32774</td>\n",
       "      <td>265</td>\n",
       "    </tr>\n",
       "    <tr>\n",
       "      <th>127</th>\n",
       "      <td>Vietnam</td>\n",
       "      <td>39958</td>\n",
       "      <td>332</td>\n",
       "    </tr>\n",
       "    <tr>\n",
       "      <th>143</th>\n",
       "      <td>Япония</td>\n",
       "      <td>65692</td>\n",
       "      <td>496</td>\n",
       "    </tr>\n",
       "  </tbody>\n",
       "</table>\n",
       "<p>36 rows × 3 columns</p>\n",
       "</div>"
      ],
      "text/plain": [
       "           country  score  users\n",
       "3       Antarctica   5652     44\n",
       "5          Armenia   5150     36\n",
       "11      Bangladesh  28911    289\n",
       "12         Belarus  17127    148\n",
       "19          Brazil  17118    149\n",
       "..             ...    ...    ...\n",
       "120         Turkey   6432     47\n",
       "122        Ukraine  21590    169\n",
       "124  United States  32774    265\n",
       "127        Vietnam  39958    332\n",
       "143         Япония  65692    496\n",
       "\n",
       "[36 rows x 3 columns]"
      ]
     },
     "execution_count": 9,
     "metadata": {},
     "output_type": "execute_result"
    },
    {
     "data": {
      "image/png": "[encoded data removed]",
      "text/plain": [
       "<Figure size 432x288 with 1 Axes>"
      ]
     },
     "metadata": {
      "needs_background": "light"
     },
     "output_type": "display_data"
    }
   ],
   "source": [
    "users[\"score\"] = 201 - users.best_place\n",
    "score_by_country = users.groupby(\"country\", as_index=False)[\"score\"].sum()\n",
    "users_by_country = users.groupby(\"country\", as_index=False).size().rename(columns={'size':'users'})\n",
    "score_to_users = pd.merge(score_by_country, users_by_country, left_on='country', right_on='country')\n",
    "score_to_users = score_to_users[score_to_users.users > 30]\n",
    "score_to_users.plot.scatter(\"users\", \"score\")\n",
    "score_to_users"
   ]
  },
  {
   "cell_type": "markdown",
   "metadata": {},
   "source": [
    "Opazimo, da število točk vsake države linearno narašča s številom tekmovalcev iz te države.\n",
    "Kljub temu pa nekatere države odstopajo. Kot smo že prej ugotovili ima Indija v primerjavi z ostalimi državami majhen delež res dobrih programerjev. Na tem grafu Indijo predstavlja druga pika iz desne proti levi. Vidimo, da ima res majhno število točk glede na število tekmovalcev.  "
   ]
  },
  {
   "cell_type": "markdown",
   "metadata": {},
   "source": [
    "Oglejmo si še države z največjim številom točk na tekmovalca."
   ]
  },
  {
   "cell_type": "code",
   "execution_count": 19,
   "metadata": {},
   "outputs": [
    {
     "data": {
      "text/plain": [
       "<AxesSubplot:xlabel='country'>"
      ]
     },
     "execution_count": 19,
     "metadata": {},
     "output_type": "execute_result"
    },
    {
     "data": {
      "image/png": "[encoded data removed]",
      "text/plain": [
       "<Figure size 432x288 with 1 Axes>"
      ]
     },
     "metadata": {
      "needs_background": "light"
     },
     "output_type": "display_data"
    }
   ],
   "source": [
    "score_to_users[\"relative_score\"] = score_to_users[\"score\"] / score_to_users[\"users\"]\n",
    "score_to_users = score_to_users.sort_values(\"relative_score\", ascending=True)\n",
    "score_to_users.plot.bar(x='country', y='relative_score')"
   ]
  },
  {
   "cell_type": "markdown",
   "metadata": {},
   "source": [
    "Iz grafa se vidi katere države so bolj uspešne in katere manj. Indija je med manj uspešnimi, kot so nam to kazali podatki že prej. Nekatere azijske države so pri vrhu, vendar ne moremo ravno reči, da so programerji iz azije precej bolj uspešni. Razlog za to, da so vedno pri vrhu je morda predvsem to, da jih je veliko."
   ]
  },
  {
   "cell_type": "markdown",
   "metadata": {},
   "source": [
    "Zavedati se moramo, da ti podatki niso bili najbolj primerni za analizo tega, kako dobri v programerskih nalogah so ljudje iz različnih držav, saj vsebujejo le prvih 200 tekmovalcev na vsakem tekmovanju."
   ]
  },
  {
   "cell_type": "markdown",
   "metadata": {},
   "source": [
    "## Najbolj popularni programski jeziki\n",
    "Smiselno se je vprašati, katerih jezikih najraje programerajo tekmovalci."
   ]
  },
  {
   "cell_type": "code",
   "execution_count": 13,
   "metadata": {
    "scrolled": false
   },
   "outputs": [
    {
     "data": {
      "text/plain": [
       "proglang\n",
       "java        3421\n",
       "python      3595\n",
       "Q#          4516\n",
       "Kotlin      4606\n",
       "c++       150496\n",
       "dtype: int64"
      ]
     },
     "execution_count": 13,
     "metadata": {},
     "output_type": "execute_result"
    }
   ],
   "source": [
    "po_jezikih = submissions.groupby(\"proglang\").size()\n",
    "popularni_jeziki = po_jezikih.sort_values()[-5:]\n",
    "popularni_jeziki"
   ]
  },
  {
   "cell_type": "code",
   "execution_count": 14,
   "metadata": {},
   "outputs": [
    {
     "data": {
      "text/plain": [
       "<AxesSubplot:xlabel='proglang'>"
      ]
     },
     "execution_count": 14,
     "metadata": {},
     "output_type": "execute_result"
    },
    {
     "data": {
      "image/png": "[encoded data removed]",
      "text/plain": [
       "<Figure size 432x288 with 1 Axes>"
      ]
     },
     "metadata": {
      "needs_background": "light"
     },
     "output_type": "display_data"
    }
   ],
   "source": [
    "popularni_jeziki.plot.bar()"
   ]
  },
  {
   "cell_type": "markdown",
   "metadata": {},
   "source": [
    "Vidimo, da je daleč najbolj popularen jezik med tekmovalnimi programerji c++, python pa je šele na petem mestu. To ni presenetljivo, saj je c++ precej hitrejši od pythona. Vseeno smo pričakovali, da bo v pythonu več oddaj kot se je izkazalo da jih je, saj je ponavadi prvih nekaj nalog zelo enostavnih in se jih hitreje reši v pythonu, kjer je koda ponavadi krajša."
   ]
  },
  {
   "cell_type": "code",
   "execution_count": 15,
   "metadata": {},
   "outputs": [
    {
     "name": "stdout",
     "output_type": "stream",
     "text": [
      "Delež oddaj v c++: 86.63 %\n",
      "Delež oddaj v pythonu:  2.07 %\n"
     ]
    }
   ],
   "source": [
    "size = len(submissions[submissions.proglang.notnull()])\n",
    "cpp_part = popularni_jeziki.loc[\"c++\"] / size\n",
    "python_part = popularni_jeziki.loc[\"python\"] / size\n",
    "print(\"Delež oddaj v c++:\", round(cpp_part*100, 2), \"%\")\n",
    "print(\"Delež oddaj v pythonu: \", round(python_part*100, 2), \"%\")"
   ]
  },
  {
   "cell_type": "markdown",
   "metadata": {},
   "source": [
    "Torej je v pythonu res manj kot 5 % vseh oddaj, presenetljivo pa je delež vseh oddaj v c++ samo 64 %, kar je precej manj kot 80 %."
   ]
  },
  {
   "cell_type": "code",
   "execution_count": 16,
   "metadata": {},
   "outputs": [
    {
     "data": {
      "text/html": [
       "<div>\n",
       "<style scoped>\n",
       "    .dataframe tbody tr th:only-of-type {\n",
       "        vertical-align: middle;\n",
       "    }\n",
       "\n",
       "    .dataframe tbody tr th {\n",
       "        vertical-align: top;\n",
       "    }\n",
       "\n",
       "    .dataframe thead th {\n",
       "        text-align: right;\n",
       "    }\n",
       "</style>\n",
       "<table border=\"1\" class=\"dataframe\">\n",
       "  <thead>\n",
       "    <tr style=\"text-align: right;\">\n",
       "      <th></th>\n",
       "      <th>name</th>\n",
       "      <th>rank</th>\n",
       "      <th>best_place</th>\n",
       "      <th>country</th>\n",
       "      <th>score</th>\n",
       "      <th>user</th>\n",
       "      <th>task</th>\n",
       "      <th>proglang</th>\n",
       "      <th>time</th>\n",
       "    </tr>\n",
       "  </thead>\n",
       "  <tbody>\n",
       "    <tr>\n",
       "      <th>0</th>\n",
       "      <td>HIR180</td>\n",
       "      <td>Legendary Grandmaster</td>\n",
       "      <td>1</td>\n",
       "      <td>Япония</td>\n",
       "      <td>200</td>\n",
       "      <td>1</td>\n",
       "      <td>1</td>\n",
       "      <td>c++</td>\n",
       "      <td>1.0</td>\n",
       "    </tr>\n",
       "    <tr>\n",
       "      <th>1</th>\n",
       "      <td>HIR180</td>\n",
       "      <td>Legendary Grandmaster</td>\n",
       "      <td>1</td>\n",
       "      <td>Япония</td>\n",
       "      <td>200</td>\n",
       "      <td>1</td>\n",
       "      <td>2</td>\n",
       "      <td>c++</td>\n",
       "      <td>6.0</td>\n",
       "    </tr>\n",
       "    <tr>\n",
       "      <th>2</th>\n",
       "      <td>HIR180</td>\n",
       "      <td>Legendary Grandmaster</td>\n",
       "      <td>1</td>\n",
       "      <td>Япония</td>\n",
       "      <td>200</td>\n",
       "      <td>1</td>\n",
       "      <td>3</td>\n",
       "      <td>c++</td>\n",
       "      <td>65.0</td>\n",
       "    </tr>\n",
       "    <tr>\n",
       "      <th>3</th>\n",
       "      <td>HIR180</td>\n",
       "      <td>Legendary Grandmaster</td>\n",
       "      <td>1</td>\n",
       "      <td>Япония</td>\n",
       "      <td>200</td>\n",
       "      <td>1</td>\n",
       "      <td>4</td>\n",
       "      <td>c++</td>\n",
       "      <td>26.0</td>\n",
       "    </tr>\n",
       "    <tr>\n",
       "      <th>4</th>\n",
       "      <td>HIR180</td>\n",
       "      <td>Legendary Grandmaster</td>\n",
       "      <td>1</td>\n",
       "      <td>Япония</td>\n",
       "      <td>200</td>\n",
       "      <td>1</td>\n",
       "      <td>5</td>\n",
       "      <td>c++</td>\n",
       "      <td>26.0</td>\n",
       "    </tr>\n",
       "    <tr>\n",
       "      <th>...</th>\n",
       "      <td>...</td>\n",
       "      <td>...</td>\n",
       "      <td>...</td>\n",
       "      <td>...</td>\n",
       "      <td>...</td>\n",
       "      <td>...</td>\n",
       "      <td>...</td>\n",
       "      <td>...</td>\n",
       "      <td>...</td>\n",
       "    </tr>\n",
       "    <tr>\n",
       "      <th>234995</th>\n",
       "      <td>el.duivel</td>\n",
       "      <td>Expert</td>\n",
       "      <td>192</td>\n",
       "      <td>Bangladesh</td>\n",
       "      <td>9</td>\n",
       "      <td>14559</td>\n",
       "      <td>451</td>\n",
       "      <td>c++</td>\n",
       "      <td>33.0</td>\n",
       "    </tr>\n",
       "    <tr>\n",
       "      <th>234996</th>\n",
       "      <td>el.duivel</td>\n",
       "      <td>Expert</td>\n",
       "      <td>192</td>\n",
       "      <td>Bangladesh</td>\n",
       "      <td>9</td>\n",
       "      <td>14559</td>\n",
       "      <td>452</td>\n",
       "      <td>c++</td>\n",
       "      <td>52.0</td>\n",
       "    </tr>\n",
       "    <tr>\n",
       "      <th>234997</th>\n",
       "      <td>el.duivel</td>\n",
       "      <td>Expert</td>\n",
       "      <td>192</td>\n",
       "      <td>Bangladesh</td>\n",
       "      <td>9</td>\n",
       "      <td>14559</td>\n",
       "      <td>453</td>\n",
       "      <td>c++</td>\n",
       "      <td>106.0</td>\n",
       "    </tr>\n",
       "    <tr>\n",
       "      <th>234998</th>\n",
       "      <td>el.duivel</td>\n",
       "      <td>Expert</td>\n",
       "      <td>192</td>\n",
       "      <td>Bangladesh</td>\n",
       "      <td>9</td>\n",
       "      <td>14559</td>\n",
       "      <td>454</td>\n",
       "      <td>NaN</td>\n",
       "      <td>NaN</td>\n",
       "    </tr>\n",
       "    <tr>\n",
       "      <th>234999</th>\n",
       "      <td>el.duivel</td>\n",
       "      <td>Expert</td>\n",
       "      <td>192</td>\n",
       "      <td>Bangladesh</td>\n",
       "      <td>9</td>\n",
       "      <td>14559</td>\n",
       "      <td>455</td>\n",
       "      <td>NaN</td>\n",
       "      <td>NaN</td>\n",
       "    </tr>\n",
       "  </tbody>\n",
       "</table>\n",
       "<p>235000 rows × 9 columns</p>\n",
       "</div>"
      ],
      "text/plain": [
       "             name                   rank  best_place     country  score  \\\n",
       "0          HIR180  Legendary Grandmaster           1      Япония    200   \n",
       "1          HIR180  Legendary Grandmaster           1      Япония    200   \n",
       "2          HIR180  Legendary Grandmaster           1      Япония    200   \n",
       "3          HIR180  Legendary Grandmaster           1      Япония    200   \n",
       "4          HIR180  Legendary Grandmaster           1      Япония    200   \n",
       "...           ...                    ...         ...         ...    ...   \n",
       "234995  el.duivel                 Expert         192  Bangladesh      9   \n",
       "234996  el.duivel                 Expert         192  Bangladesh      9   \n",
       "234997  el.duivel                 Expert         192  Bangladesh      9   \n",
       "234998  el.duivel                 Expert         192  Bangladesh      9   \n",
       "234999  el.duivel                 Expert         192  Bangladesh      9   \n",
       "\n",
       "         user  task proglang   time  \n",
       "0           1     1      c++    1.0  \n",
       "1           1     2      c++    6.0  \n",
       "2           1     3      c++   65.0  \n",
       "3           1     4      c++   26.0  \n",
       "4           1     5      c++   26.0  \n",
       "...       ...   ...      ...    ...  \n",
       "234995  14559   451      c++   33.0  \n",
       "234996  14559   452      c++   52.0  \n",
       "234997  14559   453      c++  106.0  \n",
       "234998  14559   454      NaN    NaN  \n",
       "234999  14559   455      NaN    NaN  \n",
       "\n",
       "[235000 rows x 9 columns]"
      ]
     },
     "execution_count": 16,
     "metadata": {},
     "output_type": "execute_result"
    }
   ],
   "source": [
    "pd.merge(users, submissions, left_on='id', right_on='user')"
   ]
  },
  {
   "cell_type": "markdown",
   "metadata": {},
   "source": [
    "## Hitrost reševanja"
   ]
  },
  {
   "cell_type": "markdown",
   "metadata": {},
   "source": [
    "V tem razdelku si bomo ogledali, če obstaja kakšna korelacija med hitrostjo nekdo reševanja nalog in tem, kako težke naloge je nekdo sposoben rešiti."
   ]
  },
  {
   "cell_type": "code",
   "execution_count": null,
   "metadata": {},
   "outputs": [],
   "source": []
  }
 ],
 "metadata": {
  "kernelspec": {
   "display_name": "Python 3",
   "language": "python",
   "name": "python3"
  },
  "language_info": {
   "codemirror_mode": {
    "name": "ipython",
    "version": 3
   },
   "file_extension": ".py",
   "mimetype": "text/x-python",
   "name": "python",
   "nbconvert_exporter": "python",
   "pygments_lexer": "ipython3",
   "version": "3.8.1"
  }
 },
 "nbformat": 4,
 "nbformat_minor": 4
}
