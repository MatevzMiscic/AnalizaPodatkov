{
 "cells": [
  {
   "cell_type": "markdown",
   "metadata": {},
   "source": [
    "# Analiza tekmovnj na Codeforces"
   ]
  },
  {
   "cell_type": "markdown",
   "metadata": {},
   "source": [
    "## Priprava\n",
    "Najprej moramo naložiti pandas in si pripraviti podatke, ki jih bomo potrebovali za analizo."
   ]
  },
  {
   "cell_type": "code",
   "execution_count": 1,
   "metadata": {},
   "outputs": [],
   "source": [
    "import pandas as pd\n",
    "import os.path\n",
    "\n",
    "pd.options.display.max_rows = 20\n",
    "\n",
    "%matplotlib inline\n",
    "\n",
    "# nalozimo razpredelnice\n",
    "users_path = os.path.join(\"obdelani_podatki\", \"users.csv\")\n",
    "users = pd.read_csv(users_path, index_col='id')\n",
    "\n",
    "tasks_path = os.path.join(\"obdelani_podatki\", \"tasks.csv\")\n",
    "tasks = pd.read_csv(tasks_path, index_col='id')\n",
    "\n",
    "submissions_path = os.path.join(\"obdelani_podatki\", \"submissions.csv\")\n",
    "submissions = pd.read_csv(submissions_path, index_col='id')\n",
    "\n",
    "contestants_path = os.path.join(\"obdelani_podatki\", \"contestants.csv\")\n",
    "contestants = pd.read_csv(contestants_path, index_col='id')"
   ]
  },
  {
   "cell_type": "code",
   "execution_count": 2,
   "metadata": {},
   "outputs": [
    {
     "data": {
      "text/html": [
       "<div>\n",
       "<style scoped>\n",
       "    .dataframe tbody tr th:only-of-type {\n",
       "        vertical-align: middle;\n",
       "    }\n",
       "\n",
       "    .dataframe tbody tr th {\n",
       "        vertical-align: top;\n",
       "    }\n",
       "\n",
       "    .dataframe thead th {\n",
       "        text-align: right;\n",
       "    }\n",
       "</style>\n",
       "<table border=\"1\" class=\"dataframe\">\n",
       "  <thead>\n",
       "    <tr style=\"text-align: right;\">\n",
       "      <th></th>\n",
       "      <th>name</th>\n",
       "      <th>rank</th>\n",
       "      <th>country</th>\n",
       "    </tr>\n",
       "    <tr>\n",
       "      <th>id</th>\n",
       "      <th></th>\n",
       "      <th></th>\n",
       "      <th></th>\n",
       "    </tr>\n",
       "  </thead>\n",
       "  <tbody>\n",
       "    <tr>\n",
       "      <th>1</th>\n",
       "      <td>HIR180</td>\n",
       "      <td>Legendary Grandmaster</td>\n",
       "      <td>Japan</td>\n",
       "    </tr>\n",
       "    <tr>\n",
       "      <th>2</th>\n",
       "      <td>9623</td>\n",
       "      <td>International Master</td>\n",
       "      <td>Antarctica</td>\n",
       "    </tr>\n",
       "    <tr>\n",
       "      <th>3</th>\n",
       "      <td>stasio6</td>\n",
       "      <td>International Master</td>\n",
       "      <td>Poland</td>\n",
       "    </tr>\n",
       "    <tr>\n",
       "      <th>4</th>\n",
       "      <td>sigma425</td>\n",
       "      <td>International Grandmaster</td>\n",
       "      <td>Japan</td>\n",
       "    </tr>\n",
       "    <tr>\n",
       "      <th>5</th>\n",
       "      <td>jiangly</td>\n",
       "      <td>Legendary Grandmaster</td>\n",
       "      <td>China</td>\n",
       "    </tr>\n",
       "    <tr>\n",
       "      <th>...</th>\n",
       "      <td>...</td>\n",
       "      <td>...</td>\n",
       "      <td>...</td>\n",
       "    </tr>\n",
       "    <tr>\n",
       "      <th>13876</th>\n",
       "      <td>DoIudu123</td>\n",
       "      <td>Newbie</td>\n",
       "      <td>Taiwan</td>\n",
       "    </tr>\n",
       "    <tr>\n",
       "      <th>13877</th>\n",
       "      <td>logicccc</td>\n",
       "      <td>Unrated</td>\n",
       "      <td>NaN</td>\n",
       "    </tr>\n",
       "    <tr>\n",
       "      <th>13878</th>\n",
       "      <td>EasyMode</td>\n",
       "      <td>Expert</td>\n",
       "      <td>Brazil</td>\n",
       "    </tr>\n",
       "    <tr>\n",
       "      <th>13879</th>\n",
       "      <td>foolish</td>\n",
       "      <td>Candidate Master</td>\n",
       "      <td>China</td>\n",
       "    </tr>\n",
       "    <tr>\n",
       "      <th>13880</th>\n",
       "      <td>el.duivel</td>\n",
       "      <td>Expert</td>\n",
       "      <td>Bangladesh</td>\n",
       "    </tr>\n",
       "  </tbody>\n",
       "</table>\n",
       "<p>13880 rows × 3 columns</p>\n",
       "</div>"
      ],
      "text/plain": [
       "            name                       rank     country\n",
       "id                                                     \n",
       "1         HIR180      Legendary Grandmaster       Japan\n",
       "2           9623       International Master  Antarctica\n",
       "3        stasio6       International Master      Poland\n",
       "4       sigma425  International Grandmaster       Japan\n",
       "5        jiangly      Legendary Grandmaster       China\n",
       "...          ...                        ...         ...\n",
       "13876  DoIudu123                     Newbie      Taiwan\n",
       "13877   logicccc                    Unrated         NaN\n",
       "13878   EasyMode                     Expert      Brazil\n",
       "13879    foolish           Candidate Master       China\n",
       "13880  el.duivel                     Expert  Bangladesh\n",
       "\n",
       "[13880 rows x 3 columns]"
      ]
     },
     "execution_count": 2,
     "metadata": {},
     "output_type": "execute_result"
    }
   ],
   "source": [
    "users"
   ]
  },
  {
   "cell_type": "code",
   "execution_count": 3,
   "metadata": {},
   "outputs": [
    {
     "data": {
      "text/html": [
       "<div>\n",
       "<style scoped>\n",
       "    .dataframe tbody tr th:only-of-type {\n",
       "        vertical-align: middle;\n",
       "    }\n",
       "\n",
       "    .dataframe tbody tr th {\n",
       "        vertical-align: top;\n",
       "    }\n",
       "\n",
       "    .dataframe thead th {\n",
       "        text-align: right;\n",
       "    }\n",
       "</style>\n",
       "<table border=\"1\" class=\"dataframe\">\n",
       "  <thead>\n",
       "    <tr style=\"text-align: right;\">\n",
       "      <th></th>\n",
       "      <th>contest</th>\n",
       "      <th>number</th>\n",
       "    </tr>\n",
       "    <tr>\n",
       "      <th>id</th>\n",
       "      <th></th>\n",
       "      <th></th>\n",
       "    </tr>\n",
       "  </thead>\n",
       "  <tbody>\n",
       "    <tr>\n",
       "      <th>1</th>\n",
       "      <td>1</td>\n",
       "      <td>1</td>\n",
       "    </tr>\n",
       "    <tr>\n",
       "      <th>2</th>\n",
       "      <td>1</td>\n",
       "      <td>2</td>\n",
       "    </tr>\n",
       "    <tr>\n",
       "      <th>3</th>\n",
       "      <td>1</td>\n",
       "      <td>3</td>\n",
       "    </tr>\n",
       "    <tr>\n",
       "      <th>4</th>\n",
       "      <td>1</td>\n",
       "      <td>4</td>\n",
       "    </tr>\n",
       "    <tr>\n",
       "      <th>5</th>\n",
       "      <td>1</td>\n",
       "      <td>5</td>\n",
       "    </tr>\n",
       "    <tr>\n",
       "      <th>...</th>\n",
       "      <td>...</td>\n",
       "      <td>...</td>\n",
       "    </tr>\n",
       "    <tr>\n",
       "      <th>1113</th>\n",
       "      <td>189</td>\n",
       "      <td>2</td>\n",
       "    </tr>\n",
       "    <tr>\n",
       "      <th>1114</th>\n",
       "      <td>189</td>\n",
       "      <td>3</td>\n",
       "    </tr>\n",
       "    <tr>\n",
       "      <th>1115</th>\n",
       "      <td>189</td>\n",
       "      <td>4</td>\n",
       "    </tr>\n",
       "    <tr>\n",
       "      <th>1116</th>\n",
       "      <td>189</td>\n",
       "      <td>5</td>\n",
       "    </tr>\n",
       "    <tr>\n",
       "      <th>1117</th>\n",
       "      <td>189</td>\n",
       "      <td>6</td>\n",
       "    </tr>\n",
       "  </tbody>\n",
       "</table>\n",
       "<p>1117 rows × 2 columns</p>\n",
       "</div>"
      ],
      "text/plain": [
       "      contest  number\n",
       "id                   \n",
       "1           1       1\n",
       "2           1       2\n",
       "3           1       3\n",
       "4           1       4\n",
       "5           1       5\n",
       "...       ...     ...\n",
       "1113      189       2\n",
       "1114      189       3\n",
       "1115      189       4\n",
       "1116      189       5\n",
       "1117      189       6\n",
       "\n",
       "[1117 rows x 2 columns]"
      ]
     },
     "execution_count": 3,
     "metadata": {},
     "output_type": "execute_result"
    }
   ],
   "source": [
    "tasks"
   ]
  },
  {
   "cell_type": "code",
   "execution_count": 4,
   "metadata": {
    "scrolled": false
   },
   "outputs": [
    {
     "data": {
      "text/html": [
       "<div>\n",
       "<style scoped>\n",
       "    .dataframe tbody tr th:only-of-type {\n",
       "        vertical-align: middle;\n",
       "    }\n",
       "\n",
       "    .dataframe tbody tr th {\n",
       "        vertical-align: top;\n",
       "    }\n",
       "\n",
       "    .dataframe thead th {\n",
       "        text-align: right;\n",
       "    }\n",
       "</style>\n",
       "<table border=\"1\" class=\"dataframe\">\n",
       "  <thead>\n",
       "    <tr style=\"text-align: right;\">\n",
       "      <th></th>\n",
       "      <th>contestant</th>\n",
       "      <th>task</th>\n",
       "      <th>proglang</th>\n",
       "      <th>time</th>\n",
       "    </tr>\n",
       "    <tr>\n",
       "      <th>id</th>\n",
       "      <th></th>\n",
       "      <th></th>\n",
       "      <th></th>\n",
       "      <th></th>\n",
       "    </tr>\n",
       "  </thead>\n",
       "  <tbody>\n",
       "    <tr>\n",
       "      <th>1</th>\n",
       "      <td>1</td>\n",
       "      <td>1</td>\n",
       "      <td>c++</td>\n",
       "      <td>1.0</td>\n",
       "    </tr>\n",
       "    <tr>\n",
       "      <th>2</th>\n",
       "      <td>1</td>\n",
       "      <td>2</td>\n",
       "      <td>c++</td>\n",
       "      <td>6.0</td>\n",
       "    </tr>\n",
       "    <tr>\n",
       "      <th>3</th>\n",
       "      <td>1</td>\n",
       "      <td>3</td>\n",
       "      <td>c++</td>\n",
       "      <td>65.0</td>\n",
       "    </tr>\n",
       "    <tr>\n",
       "      <th>4</th>\n",
       "      <td>1</td>\n",
       "      <td>4</td>\n",
       "      <td>c++</td>\n",
       "      <td>26.0</td>\n",
       "    </tr>\n",
       "    <tr>\n",
       "      <th>5</th>\n",
       "      <td>1</td>\n",
       "      <td>5</td>\n",
       "      <td>c++</td>\n",
       "      <td>26.0</td>\n",
       "    </tr>\n",
       "    <tr>\n",
       "      <th>...</th>\n",
       "      <td>...</td>\n",
       "      <td>...</td>\n",
       "      <td>...</td>\n",
       "      <td>...</td>\n",
       "    </tr>\n",
       "    <tr>\n",
       "      <th>223396</th>\n",
       "      <td>35200</td>\n",
       "      <td>419</td>\n",
       "      <td>c++</td>\n",
       "      <td>33.0</td>\n",
       "    </tr>\n",
       "    <tr>\n",
       "      <th>223397</th>\n",
       "      <td>35200</td>\n",
       "      <td>420</td>\n",
       "      <td>c++</td>\n",
       "      <td>52.0</td>\n",
       "    </tr>\n",
       "    <tr>\n",
       "      <th>223398</th>\n",
       "      <td>35200</td>\n",
       "      <td>421</td>\n",
       "      <td>c++</td>\n",
       "      <td>106.0</td>\n",
       "    </tr>\n",
       "    <tr>\n",
       "      <th>223399</th>\n",
       "      <td>35200</td>\n",
       "      <td>422</td>\n",
       "      <td>NaN</td>\n",
       "      <td>NaN</td>\n",
       "    </tr>\n",
       "    <tr>\n",
       "      <th>223400</th>\n",
       "      <td>35200</td>\n",
       "      <td>423</td>\n",
       "      <td>NaN</td>\n",
       "      <td>NaN</td>\n",
       "    </tr>\n",
       "  </tbody>\n",
       "</table>\n",
       "<p>223400 rows × 4 columns</p>\n",
       "</div>"
      ],
      "text/plain": [
       "        contestant  task proglang   time\n",
       "id                                      \n",
       "1                1     1      c++    1.0\n",
       "2                1     2      c++    6.0\n",
       "3                1     3      c++   65.0\n",
       "4                1     4      c++   26.0\n",
       "5                1     5      c++   26.0\n",
       "...            ...   ...      ...    ...\n",
       "223396       35200   419      c++   33.0\n",
       "223397       35200   420      c++   52.0\n",
       "223398       35200   421      c++  106.0\n",
       "223399       35200   422      NaN    NaN\n",
       "223400       35200   423      NaN    NaN\n",
       "\n",
       "[223400 rows x 4 columns]"
      ]
     },
     "execution_count": 4,
     "metadata": {},
     "output_type": "execute_result"
    }
   ],
   "source": [
    "submissions"
   ]
  },
  {
   "cell_type": "code",
   "execution_count": 5,
   "metadata": {},
   "outputs": [
    {
     "data": {
      "text/html": [
       "<div>\n",
       "<style scoped>\n",
       "    .dataframe tbody tr th:only-of-type {\n",
       "        vertical-align: middle;\n",
       "    }\n",
       "\n",
       "    .dataframe tbody tr th {\n",
       "        vertical-align: top;\n",
       "    }\n",
       "\n",
       "    .dataframe thead th {\n",
       "        text-align: right;\n",
       "    }\n",
       "</style>\n",
       "<table border=\"1\" class=\"dataframe\">\n",
       "  <thead>\n",
       "    <tr style=\"text-align: right;\">\n",
       "      <th></th>\n",
       "      <th>user</th>\n",
       "      <th>contest</th>\n",
       "      <th>place</th>\n",
       "    </tr>\n",
       "    <tr>\n",
       "      <th>id</th>\n",
       "      <th></th>\n",
       "      <th></th>\n",
       "      <th></th>\n",
       "    </tr>\n",
       "  </thead>\n",
       "  <tbody>\n",
       "    <tr>\n",
       "      <th>1</th>\n",
       "      <td>1</td>\n",
       "      <td>1</td>\n",
       "      <td>1</td>\n",
       "    </tr>\n",
       "    <tr>\n",
       "      <th>2</th>\n",
       "      <td>1</td>\n",
       "      <td>3</td>\n",
       "      <td>99</td>\n",
       "    </tr>\n",
       "    <tr>\n",
       "      <th>3</th>\n",
       "      <td>1</td>\n",
       "      <td>24</td>\n",
       "      <td>41</td>\n",
       "    </tr>\n",
       "    <tr>\n",
       "      <th>4</th>\n",
       "      <td>1</td>\n",
       "      <td>29</td>\n",
       "      <td>37</td>\n",
       "    </tr>\n",
       "    <tr>\n",
       "      <th>5</th>\n",
       "      <td>1</td>\n",
       "      <td>31</td>\n",
       "      <td>29</td>\n",
       "    </tr>\n",
       "    <tr>\n",
       "      <th>...</th>\n",
       "      <td>...</td>\n",
       "      <td>...</td>\n",
       "      <td>...</td>\n",
       "    </tr>\n",
       "    <tr>\n",
       "      <th>35196</th>\n",
       "      <td>13876</td>\n",
       "      <td>200</td>\n",
       "      <td>163</td>\n",
       "    </tr>\n",
       "    <tr>\n",
       "      <th>35197</th>\n",
       "      <td>13877</td>\n",
       "      <td>200</td>\n",
       "      <td>166</td>\n",
       "    </tr>\n",
       "    <tr>\n",
       "      <th>35198</th>\n",
       "      <td>13878</td>\n",
       "      <td>200</td>\n",
       "      <td>174</td>\n",
       "    </tr>\n",
       "    <tr>\n",
       "      <th>35199</th>\n",
       "      <td>13879</td>\n",
       "      <td>200</td>\n",
       "      <td>178</td>\n",
       "    </tr>\n",
       "    <tr>\n",
       "      <th>35200</th>\n",
       "      <td>13880</td>\n",
       "      <td>200</td>\n",
       "      <td>192</td>\n",
       "    </tr>\n",
       "  </tbody>\n",
       "</table>\n",
       "<p>35200 rows × 3 columns</p>\n",
       "</div>"
      ],
      "text/plain": [
       "        user  contest  place\n",
       "id                          \n",
       "1          1        1      1\n",
       "2          1        3     99\n",
       "3          1       24     41\n",
       "4          1       29     37\n",
       "5          1       31     29\n",
       "...      ...      ...    ...\n",
       "35196  13876      200    163\n",
       "35197  13877      200    166\n",
       "35198  13878      200    174\n",
       "35199  13879      200    178\n",
       "35200  13880      200    192\n",
       "\n",
       "[35200 rows x 3 columns]"
      ]
     },
     "execution_count": 5,
     "metadata": {},
     "output_type": "execute_result"
    }
   ],
   "source": [
    "contestants"
   ]
  },
  {
   "cell_type": "markdown",
   "metadata": {},
   "source": [
    "Spodobi se najprej na kratko razložiti, kako delujejo tekmovanja na codeforces in kaj pomenijo podatki v posameznih stolpcih tabel.\n",
    "Na spletni trani codeforces so pogosto tekmovanja, na katerih tekmujejo programerji iz celega sveta. Na vsakem tekmovanju je nekaj nalog (tasks), ki jih morajo tekmovalci (contestants) rešiti. To naredijo tako, da napišejo ustrezno kodo, ki jo zahteva naloga, in to kodo oddajo. Taki oddajo kode rečemo tudi submission. \n",
    "\n",
    "**Users**  \n",
    "V tej tabeli se nahajajo podatki tekmovalcev, ki so tekmovali na zadnjih 100 tekmovanjih. Ker je vsak od njih lahko sodeloval na več tekmovanjih, imamo za vsakega uporabnika in vsako tekmovanje, na katerem je bil, še zapis v tabeli *contestants*.    \n",
    "\n",
    "Za vsakega imamo podano:\n",
    "* uporabniško ime\n",
    "* rank (glede na codeforces rating)\n",
    "* državo (ni zagotovila, da so podatki o državi resnični)\n",
    "\n",
    "**Tasks**  \n",
    "Za vsako nalogo imamo shranjeno tekmovanje, na katerem se je pojavila, in zaporedno številko naloge na tem tekmovanju.\n",
    "\n",
    "**Submissions**  \n",
    "Za vsako oddajo imamo podane naslednje podatke:\n",
    "* tekmovalec, ki je naredil oddajo\n",
    "* naloga h kateri spada ta oddaja\n",
    "* programski jezik\n",
    "* čas od začetka tekmovanja\n",
    "\n",
    "**Contestants**  \n",
    "Ta tabela povezuje tekmovanja in tekmovalce/uporabnike.  \n",
    "Vsak vnos v tej tabli ima:\n",
    "* uporabnika, ki je sodeloval na tekmovanju\n",
    "* tekmovanje\n",
    "* uvrstitev na tekmovanju"
   ]
  },
  {
   "cell_type": "markdown",
   "metadata": {},
   "source": [
    "Cilj naloge je ovreči ali potrditi naslednje **hipoteze**:\n",
    "* Najboljši tekmovalci prvo nalogo rešijo v manj kot 10 minutah\n",
    "* Več kot 80 % od vseh oddaj je v jeziku c++, manj kot 5 % pa v pythonu\n",
    "* Tekmovalci, ki so bili na več tekmovanjih, so bolši kot tisti, ki so bili na manj tekmovanjih"
   ]
  },
  {
   "cell_type": "markdown",
   "metadata": {},
   "source": [
    "Poleg tega bomo nekoliok bolj podrobno obravnavali tudi naslednja vprašanja:\n",
    "* Iz katerih držav so najboljši programerji?\n",
    "* Ali obstaja povezava med tem, kako hitro nek tekmovalec rešuje lahke naloge in tem, kako težke naloge je sposoben rešiti?\n",
    "* Kako udeležba na tekmovanjih vpliva na uspeh na tekmovanjih?"
   ]
  },
  {
   "cell_type": "markdown",
   "metadata": {},
   "source": [
    "## Od kod so najbolši programerji\n",
    "V tem razdelku bomo ugotovili, iz katerih držav prihajajo najboljši tekmovalci na zadnih 200 tekmovanjih na codeforces.  \n",
    "Najprej si poglejmo, koliko tekmovalcev je iz katere države."
   ]
  },
  {
   "cell_type": "code",
   "execution_count": 6,
   "metadata": {},
   "outputs": [
    {
     "data": {
      "text/plain": [
       "country\n",
       "Kazakhstan        140\n",
       "Belarus           140\n",
       "Brazil            145\n",
       "Taiwan            147\n",
       "Poland            149\n",
       "Ukraine           164\n",
       "Iran              165\n",
       "United States     257\n",
       "Bangladesh        261\n",
       "South Korea       288\n",
       "Vietnam           299\n",
       "Japan             497\n",
       "Russia           1057\n",
       "India            1692\n",
       "China            1809\n",
       "dtype: int64"
      ]
     },
     "execution_count": 6,
     "metadata": {},
     "output_type": "execute_result"
    }
   ],
   "source": [
    "users_by_country = users.groupby(\"country\").size().sort_values().tail(15)\n",
    "users_by_country"
   ]
  },
  {
   "cell_type": "code",
   "execution_count": 7,
   "metadata": {},
   "outputs": [
    {
     "data": {
      "text/plain": [
       "<AxesSubplot:xlabel='country'>"
      ]
     },
     "execution_count": 7,
     "metadata": {},
     "output_type": "execute_result"
    },
    {
     "data": {
      "image/png": "[encoded data removed]",
      "text/plain": [
       "<Figure size 432x288 with 1 Axes>"
      ]
     },
     "metadata": {
      "needs_background": "light"
     },
     "output_type": "display_data"
    }
   ],
   "source": [
    "users_by_country.plot.bar()"
   ]
  },
  {
   "cell_type": "markdown",
   "metadata": {},
   "source": [
    "Kot bi pričakovali, je iz držav z večjo populacijo več tekmovalcev.\n",
    "Presenetljivo so ZDA šele na osmem mestu, čeprav so tretja največja država po populaciji in so dokaj razvita država (ni težav z dostopom do interneta ipd.)."
   ]
  },
  {
   "cell_type": "markdown",
   "metadata": {},
   "source": [
    "Za vsakega uporabnika bomo določili njegov uspeh (score), ki bo mera tega, kako dobro se je odrezal na tekmovanjih, ki se jih je udeležil. Uspeh uporabnika bomo definirali kot `201 - povprečje uvrstitev po vseh tekmovanjih, ki se jih je udeležil`. Uspeh je tako med 0 in 200. Prikazan je v zadnjem stolpcu naslednje tabele."
   ]
  },
  {
   "cell_type": "code",
   "execution_count": 8,
   "metadata": {},
   "outputs": [
    {
     "data": {
      "text/html": [
       "<div>\n",
       "<style scoped>\n",
       "    .dataframe tbody tr th:only-of-type {\n",
       "        vertical-align: middle;\n",
       "    }\n",
       "\n",
       "    .dataframe tbody tr th {\n",
       "        vertical-align: top;\n",
       "    }\n",
       "\n",
       "    .dataframe thead th {\n",
       "        text-align: right;\n",
       "    }\n",
       "</style>\n",
       "<table border=\"1\" class=\"dataframe\">\n",
       "  <thead>\n",
       "    <tr style=\"text-align: right;\">\n",
       "      <th></th>\n",
       "      <th>name</th>\n",
       "      <th>rank</th>\n",
       "      <th>country</th>\n",
       "      <th>place</th>\n",
       "      <th>score</th>\n",
       "    </tr>\n",
       "    <tr>\n",
       "      <th>user</th>\n",
       "      <th></th>\n",
       "      <th></th>\n",
       "      <th></th>\n",
       "      <th></th>\n",
       "      <th></th>\n",
       "    </tr>\n",
       "  </thead>\n",
       "  <tbody>\n",
       "    <tr>\n",
       "      <th>1</th>\n",
       "      <td>HIR180</td>\n",
       "      <td>Legendary Grandmaster</td>\n",
       "      <td>Japan</td>\n",
       "      <td>39.636364</td>\n",
       "      <td>161.363636</td>\n",
       "    </tr>\n",
       "    <tr>\n",
       "      <th>2</th>\n",
       "      <td>9623</td>\n",
       "      <td>International Master</td>\n",
       "      <td>Antarctica</td>\n",
       "      <td>42.000000</td>\n",
       "      <td>159.000000</td>\n",
       "    </tr>\n",
       "    <tr>\n",
       "      <th>3</th>\n",
       "      <td>stasio6</td>\n",
       "      <td>International Master</td>\n",
       "      <td>Poland</td>\n",
       "      <td>27.500000</td>\n",
       "      <td>173.500000</td>\n",
       "    </tr>\n",
       "    <tr>\n",
       "      <th>4</th>\n",
       "      <td>sigma425</td>\n",
       "      <td>International Grandmaster</td>\n",
       "      <td>Japan</td>\n",
       "      <td>39.000000</td>\n",
       "      <td>162.000000</td>\n",
       "    </tr>\n",
       "    <tr>\n",
       "      <th>5</th>\n",
       "      <td>jiangly</td>\n",
       "      <td>Legendary Grandmaster</td>\n",
       "      <td>China</td>\n",
       "      <td>27.571429</td>\n",
       "      <td>173.428571</td>\n",
       "    </tr>\n",
       "    <tr>\n",
       "      <th>...</th>\n",
       "      <td>...</td>\n",
       "      <td>...</td>\n",
       "      <td>...</td>\n",
       "      <td>...</td>\n",
       "      <td>...</td>\n",
       "    </tr>\n",
       "    <tr>\n",
       "      <th>13876</th>\n",
       "      <td>DoIudu123</td>\n",
       "      <td>Newbie</td>\n",
       "      <td>Taiwan</td>\n",
       "      <td>163.000000</td>\n",
       "      <td>38.000000</td>\n",
       "    </tr>\n",
       "    <tr>\n",
       "      <th>13877</th>\n",
       "      <td>logicccc</td>\n",
       "      <td>Unrated</td>\n",
       "      <td>NaN</td>\n",
       "      <td>166.000000</td>\n",
       "      <td>35.000000</td>\n",
       "    </tr>\n",
       "    <tr>\n",
       "      <th>13878</th>\n",
       "      <td>EasyMode</td>\n",
       "      <td>Expert</td>\n",
       "      <td>Brazil</td>\n",
       "      <td>174.000000</td>\n",
       "      <td>27.000000</td>\n",
       "    </tr>\n",
       "    <tr>\n",
       "      <th>13879</th>\n",
       "      <td>foolish</td>\n",
       "      <td>Candidate Master</td>\n",
       "      <td>China</td>\n",
       "      <td>178.000000</td>\n",
       "      <td>23.000000</td>\n",
       "    </tr>\n",
       "    <tr>\n",
       "      <th>13880</th>\n",
       "      <td>el.duivel</td>\n",
       "      <td>Expert</td>\n",
       "      <td>Bangladesh</td>\n",
       "      <td>192.000000</td>\n",
       "      <td>9.000000</td>\n",
       "    </tr>\n",
       "  </tbody>\n",
       "</table>\n",
       "<p>13880 rows × 5 columns</p>\n",
       "</div>"
      ],
      "text/plain": [
       "            name                       rank     country       place  \\\n",
       "user                                                                  \n",
       "1         HIR180      Legendary Grandmaster       Japan   39.636364   \n",
       "2           9623       International Master  Antarctica   42.000000   \n",
       "3        stasio6       International Master      Poland   27.500000   \n",
       "4       sigma425  International Grandmaster       Japan   39.000000   \n",
       "5        jiangly      Legendary Grandmaster       China   27.571429   \n",
       "...          ...                        ...         ...         ...   \n",
       "13876  DoIudu123                     Newbie      Taiwan  163.000000   \n",
       "13877   logicccc                    Unrated         NaN  166.000000   \n",
       "13878   EasyMode                     Expert      Brazil  174.000000   \n",
       "13879    foolish           Candidate Master       China  178.000000   \n",
       "13880  el.duivel                     Expert  Bangladesh  192.000000   \n",
       "\n",
       "            score  \n",
       "user               \n",
       "1      161.363636  \n",
       "2      159.000000  \n",
       "3      173.500000  \n",
       "4      162.000000  \n",
       "5      173.428571  \n",
       "...           ...  \n",
       "13876   38.000000  \n",
       "13877   35.000000  \n",
       "13878   27.000000  \n",
       "13879   23.000000  \n",
       "13880    9.000000  \n",
       "\n",
       "[13880 rows x 5 columns]"
      ]
     },
     "execution_count": 8,
     "metadata": {},
     "output_type": "execute_result"
    }
   ],
   "source": [
    "avg_place = contestants.groupby(\"user\", as_index=False)[\"place\"].mean()\n",
    "users = pd.merge(users, avg_place, left_on='id', right_on='user')\n",
    "users[\"score\"] = 201 - users.place\n",
    "users = users.set_index(\"user\")\n",
    "users"
   ]
  },
  {
   "cell_type": "markdown",
   "metadata": {},
   "source": [
    "Oglejmo si, kako zgledajo podatki, če se omejimo samo na najboljših 4000 (to je približno 10 % vseh uporabnikov, ki jih analiziramo) uporabnikov."
   ]
  },
  {
   "cell_type": "code",
   "execution_count": 9,
   "metadata": {},
   "outputs": [
    {
     "data": {
      "text/plain": [
       "country\n",
       "Egypt             35\n",
       "Brazil            35\n",
       "Romania           35\n",
       "Poland            36\n",
       "Ukraine           38\n",
       "Kazakhstan        41\n",
       "Iran              43\n",
       "Bangladesh        54\n",
       "United States     61\n",
       "South Korea       88\n",
       "Vietnam           95\n",
       "Japan            125\n",
       "Russia           276\n",
       "India            368\n",
       "China            558\n",
       "dtype: int64"
      ]
     },
     "execution_count": 9,
     "metadata": {},
     "output_type": "execute_result"
    }
   ],
   "source": [
    "best_by_country = users.sort_values(\"score\", ascending=False)[:4000].groupby(\"country\").size().sort_values().tail(15)\n",
    "best_by_country"
   ]
  },
  {
   "cell_type": "code",
   "execution_count": 10,
   "metadata": {},
   "outputs": [
    {
     "data": {
      "text/plain": [
       "<AxesSubplot:xlabel='country'>"
      ]
     },
     "execution_count": 10,
     "metadata": {},
     "output_type": "execute_result"
    },
    {
     "data": {
      "image/png": "[encoded data removed]",
      "text/plain": [
       "<Figure size 432x288 with 1 Axes>"
      ]
     },
     "metadata": {
      "needs_background": "light"
     },
     "output_type": "display_data"
    }
   ],
   "source": [
    "best_by_country.plot.bar()"
   ]
  },
  {
   "cell_type": "markdown",
   "metadata": {},
   "source": [
    "Opazimo lahko, da je zelo majhen del tekmovalcev iz Indije med najboljšimi 4000 tekmovalci, če tekmovalce razvrstimo po njivem uspehu kot smo ga definirali zgoraj.  "
   ]
  },
  {
   "cell_type": "markdown",
   "metadata": {},
   "source": [
    "Poskusimo definirati boljšo oceno za to, kako dobri so tekmovalci iz posamezne države. Do zdaj smo samo primerjali število tekmovalcev neke države s številom tekmovalcev iz te države, ki so med 4000 najbolšimi po številu točk. Ker že imamo uspeh (score) posameznih tekmovalcev, lahko definiramo uspeh države, kot vsoto točk vseh tekmovalcev iz te države. Od tu do konca razdelka bomo upoštevli le države z vsaj 30 tekmovalci."
   ]
  },
  {
   "cell_type": "code",
   "execution_count": 11,
   "metadata": {},
   "outputs": [
    {
     "data": {
      "text/html": [
       "<div>\n",
       "<style scoped>\n",
       "    .dataframe tbody tr th:only-of-type {\n",
       "        vertical-align: middle;\n",
       "    }\n",
       "\n",
       "    .dataframe tbody tr th {\n",
       "        vertical-align: top;\n",
       "    }\n",
       "\n",
       "    .dataframe thead th {\n",
       "        text-align: right;\n",
       "    }\n",
       "</style>\n",
       "<table border=\"1\" class=\"dataframe\">\n",
       "  <thead>\n",
       "    <tr style=\"text-align: right;\">\n",
       "      <th></th>\n",
       "      <th>country</th>\n",
       "      <th>score</th>\n",
       "      <th>users</th>\n",
       "    </tr>\n",
       "  </thead>\n",
       "  <tbody>\n",
       "    <tr>\n",
       "      <th>3</th>\n",
       "      <td>Antarctica</td>\n",
       "      <td>4015.152381</td>\n",
       "      <td>43</td>\n",
       "    </tr>\n",
       "    <tr>\n",
       "      <th>5</th>\n",
       "      <td>Armenia</td>\n",
       "      <td>3469.859524</td>\n",
       "      <td>34</td>\n",
       "    </tr>\n",
       "    <tr>\n",
       "      <th>11</th>\n",
       "      <td>Bangladesh</td>\n",
       "      <td>21961.459012</td>\n",
       "      <td>261</td>\n",
       "    </tr>\n",
       "    <tr>\n",
       "      <th>12</th>\n",
       "      <td>Belarus</td>\n",
       "      <td>12787.065006</td>\n",
       "      <td>140</td>\n",
       "    </tr>\n",
       "    <tr>\n",
       "      <th>19</th>\n",
       "      <td>Brazil</td>\n",
       "      <td>13039.571160</td>\n",
       "      <td>145</td>\n",
       "    </tr>\n",
       "    <tr>\n",
       "      <th>...</th>\n",
       "      <td>...</td>\n",
       "      <td>...</td>\n",
       "      <td>...</td>\n",
       "    </tr>\n",
       "    <tr>\n",
       "      <th>114</th>\n",
       "      <td>Taiwan</td>\n",
       "      <td>13763.088632</td>\n",
       "      <td>147</td>\n",
       "    </tr>\n",
       "    <tr>\n",
       "      <th>120</th>\n",
       "      <td>Turkey</td>\n",
       "      <td>5093.133333</td>\n",
       "      <td>44</td>\n",
       "    </tr>\n",
       "    <tr>\n",
       "      <th>122</th>\n",
       "      <td>Ukraine</td>\n",
       "      <td>15437.331100</td>\n",
       "      <td>164</td>\n",
       "    </tr>\n",
       "    <tr>\n",
       "      <th>124</th>\n",
       "      <td>United States</td>\n",
       "      <td>24203.613959</td>\n",
       "      <td>257</td>\n",
       "    </tr>\n",
       "    <tr>\n",
       "      <th>127</th>\n",
       "      <td>Vietnam</td>\n",
       "      <td>30089.552570</td>\n",
       "      <td>299</td>\n",
       "    </tr>\n",
       "  </tbody>\n",
       "</table>\n",
       "<p>35 rows × 3 columns</p>\n",
       "</div>"
      ],
      "text/plain": [
       "           country         score  users\n",
       "3       Antarctica   4015.152381     43\n",
       "5          Armenia   3469.859524     34\n",
       "11      Bangladesh  21961.459012    261\n",
       "12         Belarus  12787.065006    140\n",
       "19          Brazil  13039.571160    145\n",
       "..             ...           ...    ...\n",
       "114         Taiwan  13763.088632    147\n",
       "120         Turkey   5093.133333     44\n",
       "122        Ukraine  15437.331100    164\n",
       "124  United States  24203.613959    257\n",
       "127        Vietnam  30089.552570    299\n",
       "\n",
       "[35 rows x 3 columns]"
      ]
     },
     "execution_count": 11,
     "metadata": {},
     "output_type": "execute_result"
    },
    {
     "data": {
      "image/png": "[encoded data removed]",
      "text/plain": [
       "<Figure size 432x288 with 1 Axes>"
      ]
     },
     "metadata": {
      "needs_background": "light"
     },
     "output_type": "display_data"
    }
   ],
   "source": [
    "score_by_country = users.groupby(\"country\", as_index=False)[\"score\"].sum()\n",
    "users_by_country = users.groupby(\"country\", as_index=False).size().rename(columns={'size':'users'})\n",
    "score_to_users = pd.merge(score_by_country, users_by_country, left_on='country', right_on='country')\n",
    "score_to_users = score_to_users[score_to_users.users > 30]\n",
    "score_to_users.plot.scatter(\"users\", \"score\")\n",
    "score_to_users"
   ]
  },
  {
   "cell_type": "markdown",
   "metadata": {},
   "source": [
    "Opazimo, da število točk vsake države linearno narašča s številom tekmovalcev iz te države.\n",
    "Kljub temu pa nekatere države odstopajo. Kot smo že prej ugotovili ima Indija v primerjavi z ostalimi državami majhen delež res dobrih programerjev. Na tem grafu Indijo predstavlja druga pika iz desne proti levi. Vidimo, da ima res majhno število točk glede na število tekmovalcev.  "
   ]
  },
  {
   "cell_type": "markdown",
   "metadata": {},
   "source": [
    "Oglejmo si še države z največjim številom točk na tekmovalca."
   ]
  },
  {
   "cell_type": "code",
   "execution_count": 12,
   "metadata": {},
   "outputs": [
    {
     "data": {
      "text/plain": [
       "<AxesSubplot:xlabel='country'>"
      ]
     },
     "execution_count": 12,
     "metadata": {},
     "output_type": "execute_result"
    },
    {
     "data": {
      "image/png": "[encoded data removed]",
      "text/plain": [
       "<Figure size 432x288 with 1 Axes>"
      ]
     },
     "metadata": {
      "needs_background": "light"
     },
     "output_type": "display_data"
    }
   ],
   "source": [
    "score_to_users[\"relative_score\"] = score_to_users[\"score\"] / score_to_users[\"users\"]\n",
    "score_to_users = score_to_users.sort_values(\"relative_score\", ascending=True)\n",
    "score_to_users.plot.bar(x=\"country\", y=\"relative_score\")"
   ]
  },
  {
   "cell_type": "markdown",
   "metadata": {},
   "source": [
    "Iz grafa se vidi katere države so bolj uspešne in katere manj. Indija je med manj uspešnimi, kot so nam to kazali podatki že prej."
   ]
  },
  {
   "cell_type": "markdown",
   "metadata": {},
   "source": [
    "Najbolj uspešne države po našem kriteriju so Turčija, Kanada in Armenija. Med Evropskimi državam je najvišje Francija, sledita ji Romunija in Italija."
   ]
  },
  {
   "cell_type": "markdown",
   "metadata": {},
   "source": [
    "Zavedati se moramo, da ti podatki niso bili najbolj primerni za analizo tega, kako dobri v programerskih nalogah so ljudje iz različnih držav, saj vsebujejo le prvih 200 tekmovalcev na vsakem tekmovanju."
   ]
  },
  {
   "cell_type": "markdown",
   "metadata": {},
   "source": [
    "## Najbolj popularni programski jeziki\n",
    "Smiselno se je vprašati, katerih jezikih najraje programerajo tekmovalci.  \n",
    "Spodnja tabela in graf prikazujeta 5 največkrat uporabljenih programskih jezikov in število oddaj v vsakem od teh jezikov."
   ]
  },
  {
   "cell_type": "code",
   "execution_count": 13,
   "metadata": {
    "scrolled": false
   },
   "outputs": [
    {
     "data": {
      "text/plain": [
       "proglang\n",
       "java        3362\n",
       "python      3544\n",
       "Q#          4516\n",
       "Kotlin      4602\n",
       "c++       146193\n",
       "dtype: int64"
      ]
     },
     "execution_count": 13,
     "metadata": {},
     "output_type": "execute_result"
    }
   ],
   "source": [
    "po_jezikih = submissions.groupby(\"proglang\").size()\n",
    "popularni_jeziki = po_jezikih.sort_values()[-5:]\n",
    "popularni_jeziki"
   ]
  },
  {
   "cell_type": "code",
   "execution_count": 14,
   "metadata": {},
   "outputs": [
    {
     "data": {
      "text/plain": [
       "<AxesSubplot:xlabel='proglang'>"
      ]
     },
     "execution_count": 14,
     "metadata": {},
     "output_type": "execute_result"
    },
    {
     "data": {
      "image/png": "[encoded data removed]",
      "text/plain": [
       "<Figure size 432x288 with 1 Axes>"
      ]
     },
     "metadata": {
      "needs_background": "light"
     },
     "output_type": "display_data"
    }
   ],
   "source": [
    "popularni_jeziki.plot.bar()"
   ]
  },
  {
   "cell_type": "markdown",
   "metadata": {},
   "source": [
    "Vidimo, da je daleč najbolj popularen jezik med tekmovalnimi programerji c++, python pa je šele na petem mestu. To ni presenetljivo, saj je c++ precej hitrejši od pythona. Vseeno smo pričakovali, da bo v pythonu več oddaj, kot se je izkazalo da jih je, saj je ponavadi prvih nekaj nalog zelo enostavnih in se jih hitreje reši v pythonu, kjer je koda ponavadi krajša."
   ]
  },
  {
   "cell_type": "code",
   "execution_count": 15,
   "metadata": {},
   "outputs": [
    {
     "name": "stdout",
     "output_type": "stream",
     "text": [
      "Delež oddaj v c++: 86.36 %\n",
      "Delež oddaj v pythonu:  2.09 %\n"
     ]
    }
   ],
   "source": [
    "size = len(submissions[submissions.proglang.notnull()])\n",
    "cpp_part = popularni_jeziki.loc[\"c++\"] / size\n",
    "python_part = popularni_jeziki.loc[\"python\"] / size\n",
    "print(\"Delež oddaj v c++:\", round(cpp_part*100, 2), \"%\")\n",
    "print(\"Delež oddaj v pythonu: \", round(python_part*100, 2), \"%\")"
   ]
  },
  {
   "cell_type": "markdown",
   "metadata": {},
   "source": [
    "Torej je v pythonu precej manj kot 5 % vseh oddaj, v c++ pa je skoraj 87 % oddaj, torej več kot 80 %. "
   ]
  },
  {
   "cell_type": "markdown",
   "metadata": {},
   "source": [
    "## Hitrost reševanja"
   ]
  },
  {
   "cell_type": "markdown",
   "metadata": {},
   "source": [
    "V tem razdelku si bomo ogledali, če obstaja kakšna korelacija med hitrostjo nekdo reševanja nalog in tem, kako težke naloge je nekdo sposoben rešiti."
   ]
  },
  {
   "cell_type": "markdown",
   "metadata": {},
   "source": [
    "Najprej tabeli uporabnikov dodajmo še en stolpec, ki bo pokazatelj tega, kako hitro kdo rešuje naloge. Za vsakega tekmovalca na vsakem tekmovanju bomo vzeli čas (v minutah), ki ga je porabil, da je uspešno rešil eno nalogo. Ponavadi vsi začnejo z reševanjem lahkih nalog (kar po vrsti) in pri teh nalogah tudi ni potrebno veliko znanja o algoritmih, treba je le hitro razumeti kaj naloga zahteva in implementirati rešitev. Zanima nas, če je to kako povezano tudi z zmožnostjo reševanja težkih nalog."
   ]
  },
  {
   "cell_type": "code",
   "execution_count": 18,
   "metadata": {},
   "outputs": [
    {
     "data": {
      "text/html": [
       "<div>\n",
       "<style scoped>\n",
       "    .dataframe tbody tr th:only-of-type {\n",
       "        vertical-align: middle;\n",
       "    }\n",
       "\n",
       "    .dataframe tbody tr th {\n",
       "        vertical-align: top;\n",
       "    }\n",
       "\n",
       "    .dataframe thead th {\n",
       "        text-align: right;\n",
       "    }\n",
       "</style>\n",
       "<table border=\"1\" class=\"dataframe\">\n",
       "  <thead>\n",
       "    <tr style=\"text-align: right;\">\n",
       "      <th></th>\n",
       "      <th>user</th>\n",
       "      <th>contest</th>\n",
       "      <th>place</th>\n",
       "      <th>min_time</th>\n",
       "    </tr>\n",
       "    <tr>\n",
       "      <th>id</th>\n",
       "      <th></th>\n",
       "      <th></th>\n",
       "      <th></th>\n",
       "      <th></th>\n",
       "    </tr>\n",
       "  </thead>\n",
       "  <tbody>\n",
       "    <tr>\n",
       "      <th>1</th>\n",
       "      <td>1</td>\n",
       "      <td>1</td>\n",
       "      <td>1</td>\n",
       "      <td>1.0</td>\n",
       "    </tr>\n",
       "    <tr>\n",
       "      <th>2</th>\n",
       "      <td>1</td>\n",
       "      <td>3</td>\n",
       "      <td>99</td>\n",
       "      <td>9.0</td>\n",
       "    </tr>\n",
       "    <tr>\n",
       "      <th>3</th>\n",
       "      <td>1</td>\n",
       "      <td>24</td>\n",
       "      <td>41</td>\n",
       "      <td>38.0</td>\n",
       "    </tr>\n",
       "    <tr>\n",
       "      <th>4</th>\n",
       "      <td>1</td>\n",
       "      <td>29</td>\n",
       "      <td>37</td>\n",
       "      <td>4.0</td>\n",
       "    </tr>\n",
       "    <tr>\n",
       "      <th>5</th>\n",
       "      <td>1</td>\n",
       "      <td>31</td>\n",
       "      <td>29</td>\n",
       "      <td>5.0</td>\n",
       "    </tr>\n",
       "    <tr>\n",
       "      <th>...</th>\n",
       "      <td>...</td>\n",
       "      <td>...</td>\n",
       "      <td>...</td>\n",
       "      <td>...</td>\n",
       "    </tr>\n",
       "    <tr>\n",
       "      <th>35196</th>\n",
       "      <td>13876</td>\n",
       "      <td>200</td>\n",
       "      <td>163</td>\n",
       "      <td>4.0</td>\n",
       "    </tr>\n",
       "    <tr>\n",
       "      <th>35197</th>\n",
       "      <td>13877</td>\n",
       "      <td>200</td>\n",
       "      <td>166</td>\n",
       "      <td>14.0</td>\n",
       "    </tr>\n",
       "    <tr>\n",
       "      <th>35198</th>\n",
       "      <td>13878</td>\n",
       "      <td>200</td>\n",
       "      <td>174</td>\n",
       "      <td>6.0</td>\n",
       "    </tr>\n",
       "    <tr>\n",
       "      <th>35199</th>\n",
       "      <td>13879</td>\n",
       "      <td>200</td>\n",
       "      <td>178</td>\n",
       "      <td>9.0</td>\n",
       "    </tr>\n",
       "    <tr>\n",
       "      <th>35200</th>\n",
       "      <td>13880</td>\n",
       "      <td>200</td>\n",
       "      <td>192</td>\n",
       "      <td>4.0</td>\n",
       "    </tr>\n",
       "  </tbody>\n",
       "</table>\n",
       "<p>35200 rows × 4 columns</p>\n",
       "</div>"
      ],
      "text/plain": [
       "        user  contest  place  min_time\n",
       "id                                    \n",
       "1          1        1      1       1.0\n",
       "2          1        3     99       9.0\n",
       "3          1       24     41      38.0\n",
       "4          1       29     37       4.0\n",
       "5          1       31     29       5.0\n",
       "...      ...      ...    ...       ...\n",
       "35196  13876      200    163       4.0\n",
       "35197  13877      200    166      14.0\n",
       "35198  13878      200    174       6.0\n",
       "35199  13879      200    178       9.0\n",
       "35200  13880      200    192       4.0\n",
       "\n",
       "[35200 rows x 4 columns]"
      ]
     },
     "execution_count": 18,
     "metadata": {},
     "output_type": "execute_result"
    }
   ],
   "source": [
    "contestants[\"min_time\"] = pd.merge(contestants, submissions, left_on=\"id\", right_on=\"contestant\").groupby(\"contestant\").min()[\"time\"]\n",
    "contestants"
   ]
  },
  {
   "cell_type": "markdown",
   "metadata": {},
   "source": [
    "Za vsako nalogo bomo ugotovili kakšen delež tekmovalcev jo je rešil. Težavnost naloge bo delež tekmovalcev (izmed prvih 200), ki niso rešili naloge."
   ]
  },
  {
   "cell_type": "code",
   "execution_count": 19,
   "metadata": {},
   "outputs": [
    {
     "data": {
      "text/html": [
       "<div>\n",
       "<style scoped>\n",
       "    .dataframe tbody tr th:only-of-type {\n",
       "        vertical-align: middle;\n",
       "    }\n",
       "\n",
       "    .dataframe tbody tr th {\n",
       "        vertical-align: top;\n",
       "    }\n",
       "\n",
       "    .dataframe thead th {\n",
       "        text-align: right;\n",
       "    }\n",
       "</style>\n",
       "<table border=\"1\" class=\"dataframe\">\n",
       "  <thead>\n",
       "    <tr style=\"text-align: right;\">\n",
       "      <th></th>\n",
       "      <th>contest</th>\n",
       "      <th>number</th>\n",
       "      <th>difficulty</th>\n",
       "    </tr>\n",
       "    <tr>\n",
       "      <th>id</th>\n",
       "      <th></th>\n",
       "      <th></th>\n",
       "      <th></th>\n",
       "    </tr>\n",
       "  </thead>\n",
       "  <tbody>\n",
       "    <tr>\n",
       "      <th>1</th>\n",
       "      <td>1</td>\n",
       "      <td>1</td>\n",
       "      <td>0.000</td>\n",
       "    </tr>\n",
       "    <tr>\n",
       "      <th>2</th>\n",
       "      <td>1</td>\n",
       "      <td>2</td>\n",
       "      <td>0.005</td>\n",
       "    </tr>\n",
       "    <tr>\n",
       "      <th>3</th>\n",
       "      <td>1</td>\n",
       "      <td>3</td>\n",
       "      <td>0.025</td>\n",
       "    </tr>\n",
       "    <tr>\n",
       "      <th>4</th>\n",
       "      <td>1</td>\n",
       "      <td>4</td>\n",
       "      <td>0.015</td>\n",
       "    </tr>\n",
       "    <tr>\n",
       "      <th>5</th>\n",
       "      <td>1</td>\n",
       "      <td>5</td>\n",
       "      <td>0.200</td>\n",
       "    </tr>\n",
       "    <tr>\n",
       "      <th>...</th>\n",
       "      <td>...</td>\n",
       "      <td>...</td>\n",
       "      <td>...</td>\n",
       "    </tr>\n",
       "    <tr>\n",
       "      <th>1113</th>\n",
       "      <td>189</td>\n",
       "      <td>2</td>\n",
       "      <td>0.005</td>\n",
       "    </tr>\n",
       "    <tr>\n",
       "      <th>1114</th>\n",
       "      <td>189</td>\n",
       "      <td>3</td>\n",
       "      <td>0.000</td>\n",
       "    </tr>\n",
       "    <tr>\n",
       "      <th>1115</th>\n",
       "      <td>189</td>\n",
       "      <td>4</td>\n",
       "      <td>0.020</td>\n",
       "    </tr>\n",
       "    <tr>\n",
       "      <th>1116</th>\n",
       "      <td>189</td>\n",
       "      <td>5</td>\n",
       "      <td>0.065</td>\n",
       "    </tr>\n",
       "    <tr>\n",
       "      <th>1117</th>\n",
       "      <td>189</td>\n",
       "      <td>6</td>\n",
       "      <td>0.720</td>\n",
       "    </tr>\n",
       "  </tbody>\n",
       "</table>\n",
       "<p>1117 rows × 3 columns</p>\n",
       "</div>"
      ],
      "text/plain": [
       "      contest  number  difficulty\n",
       "id                               \n",
       "1           1       1       0.000\n",
       "2           1       2       0.005\n",
       "3           1       3       0.025\n",
       "4           1       4       0.015\n",
       "5           1       5       0.200\n",
       "...       ...     ...         ...\n",
       "1113      189       2       0.005\n",
       "1114      189       3       0.000\n",
       "1115      189       4       0.020\n",
       "1116      189       5       0.065\n",
       "1117      189       6       0.720\n",
       "\n",
       "[1117 rows x 3 columns]"
      ]
     },
     "execution_count": 19,
     "metadata": {},
     "output_type": "execute_result"
    }
   ],
   "source": [
    "everyone = submissions.groupby(\"task\").size() \n",
    "solved = submissions[submissions.time.notnull()].groupby(\"task\").size()\n",
    "tasks[\"difficulty\"] = 1 - solved / everyone\n",
    "tasks"
   ]
  },
  {
   "cell_type": "markdown",
   "metadata": {},
   "source": [
    "Za vsakega tekmovalca na vsakem tekmovanju bomo ugotovili težavnost najtežje naloge, ki jo je rešil.  \n",
    "Tekmovalec, ki porabi preveč časa, da reši prvo nalogo tako ali tako nima časa reševati težjih nalog.\n",
    "Za takega tekmovalca težko rečemo kako težke naloge je sposoben reševati, zato se bomo omejili le na tekmovalce, ki prvo nalogo rešijo v manj kot 60 min (običajno tekmovanja trajajo okoli 2 uri)."
   ]
  },
  {
   "cell_type": "code",
   "execution_count": 20,
   "metadata": {},
   "outputs": [
    {
     "data": {
      "text/html": [
       "<div>\n",
       "<style scoped>\n",
       "    .dataframe tbody tr th:only-of-type {\n",
       "        vertical-align: middle;\n",
       "    }\n",
       "\n",
       "    .dataframe tbody tr th {\n",
       "        vertical-align: top;\n",
       "    }\n",
       "\n",
       "    .dataframe thead th {\n",
       "        text-align: right;\n",
       "    }\n",
       "</style>\n",
       "<table border=\"1\" class=\"dataframe\">\n",
       "  <thead>\n",
       "    <tr style=\"text-align: right;\">\n",
       "      <th></th>\n",
       "      <th>min_time</th>\n",
       "      <th>difficulty</th>\n",
       "    </tr>\n",
       "    <tr>\n",
       "      <th>contestant</th>\n",
       "      <th></th>\n",
       "      <th></th>\n",
       "    </tr>\n",
       "  </thead>\n",
       "  <tbody>\n",
       "    <tr>\n",
       "      <th>1</th>\n",
       "      <td>1.0</td>\n",
       "      <td>0.950</td>\n",
       "    </tr>\n",
       "    <tr>\n",
       "      <th>2</th>\n",
       "      <td>9.0</td>\n",
       "      <td>0.980</td>\n",
       "    </tr>\n",
       "    <tr>\n",
       "      <th>3</th>\n",
       "      <td>38.0</td>\n",
       "      <td>0.955</td>\n",
       "    </tr>\n",
       "    <tr>\n",
       "      <th>4</th>\n",
       "      <td>4.0</td>\n",
       "      <td>0.995</td>\n",
       "    </tr>\n",
       "    <tr>\n",
       "      <th>5</th>\n",
       "      <td>5.0</td>\n",
       "      <td>0.990</td>\n",
       "    </tr>\n",
       "    <tr>\n",
       "      <th>...</th>\n",
       "      <td>...</td>\n",
       "      <td>...</td>\n",
       "    </tr>\n",
       "    <tr>\n",
       "      <th>35196</th>\n",
       "      <td>4.0</td>\n",
       "      <td>0.865</td>\n",
       "    </tr>\n",
       "    <tr>\n",
       "      <th>35197</th>\n",
       "      <td>14.0</td>\n",
       "      <td>0.865</td>\n",
       "    </tr>\n",
       "    <tr>\n",
       "      <th>35198</th>\n",
       "      <td>6.0</td>\n",
       "      <td>0.865</td>\n",
       "    </tr>\n",
       "    <tr>\n",
       "      <th>35199</th>\n",
       "      <td>9.0</td>\n",
       "      <td>0.865</td>\n",
       "    </tr>\n",
       "    <tr>\n",
       "      <th>35200</th>\n",
       "      <td>4.0</td>\n",
       "      <td>0.865</td>\n",
       "    </tr>\n",
       "  </tbody>\n",
       "</table>\n",
       "<p>33201 rows × 2 columns</p>\n",
       "</div>"
      ],
      "text/plain": [
       "            min_time  difficulty\n",
       "contestant                      \n",
       "1                1.0       0.950\n",
       "2                9.0       0.980\n",
       "3               38.0       0.955\n",
       "4                4.0       0.995\n",
       "5                5.0       0.990\n",
       "...              ...         ...\n",
       "35196            4.0       0.865\n",
       "35197           14.0       0.865\n",
       "35198            6.0       0.865\n",
       "35199            9.0       0.865\n",
       "35200            4.0       0.865\n",
       "\n",
       "[33201 rows x 2 columns]"
      ]
     },
     "execution_count": 20,
     "metadata": {},
     "output_type": "execute_result"
    },
    {
     "data": {
      "image/png": "[encoded data removed]",
      "text/plain": [
       "<Figure size 432x288 with 1 Axes>"
      ]
     },
     "metadata": {
      "needs_background": "light"
     },
     "output_type": "display_data"
    }
   ],
   "source": [
    "contestant_submission = pd.merge(contestants, submissions, left_on=\"id\", right_on=\"contestant\")\n",
    "conestant_task = pd.merge(contestant_submission, tasks, left_on=\"task\", right_on=\"id\")\n",
    "corelation = conestant_task.groupby(\"contestant\").max()[[\"min_time\", \"difficulty\"]]\n",
    "corelation = corelation[corelation.min_time < 60]\n",
    "corelation.plot.scatter(\"min_time\", \"difficulty\")\n",
    "corelation"
   ]
  },
  {
   "cell_type": "markdown",
   "metadata": {},
   "source": [
    "Na levi so točke nakopičene pri vrhum, na desni strani pa so enakomerno razporejene po višini.\n",
    "Vidimo, da so tekmovalci, ki hitreje rešijo prvo nalogo, ponavadi sposobni reševati težje naloge kot tisti, ki za prvo nalogo porabijo več časa."
   ]
  },
  {
   "cell_type": "markdown",
   "metadata": {},
   "source": [
    "Na hitro si oglejmo še, kolikšen del tekmovalcev, ki so se uvrstili med 200 najboljših, reši prvo nalogo v manj kot 10 minutah."
   ]
  },
  {
   "cell_type": "code",
   "execution_count": 21,
   "metadata": {},
   "outputs": [
    {
     "data": {
      "text/plain": [
       "0.7517045454545455"
      ]
     },
     "execution_count": 21,
     "metadata": {},
     "output_type": "execute_result"
    }
   ],
   "source": [
    "len(contestants[contestants.min_time <= 10]) / len(contestants)"
   ]
  },
  {
   "cell_type": "markdown",
   "metadata": {},
   "source": [
    "Ta delež je skoraj 74 %."
   ]
  },
  {
   "cell_type": "markdown",
   "metadata": {},
   "source": [
    "## Ali je res, da vaja dela mojstra?"
   ]
  },
  {
   "cell_type": "markdown",
   "metadata": {},
   "source": [
    "Ogledali si bomo, kako se uvrstitve spreminjajo, ko je bil nek tekmovalec na več tekmovanjih. Zdi se, da bi si tekmovalci na prejšnih tekmovanjih, ki so se jih udeležili, pridobili kakšno izkušno in bi bili bolj uspešni na naslednjih."
   ]
  },
  {
   "cell_type": "markdown",
   "metadata": {},
   "source": [
    "Za vsakega uporabnika bomo ugotovili, na koliko tekmovanjih je bil. Temu številu bomo rekli izkušnje uporabnika in ga shranili v stolpec *exp* v tabeli uporabnikov."
   ]
  },
  {
   "cell_type": "code",
   "execution_count": 22,
   "metadata": {
    "scrolled": false
   },
   "outputs": [
    {
     "data": {
      "text/html": [
       "<div>\n",
       "<style scoped>\n",
       "    .dataframe tbody tr th:only-of-type {\n",
       "        vertical-align: middle;\n",
       "    }\n",
       "\n",
       "    .dataframe tbody tr th {\n",
       "        vertical-align: top;\n",
       "    }\n",
       "\n",
       "    .dataframe thead th {\n",
       "        text-align: right;\n",
       "    }\n",
       "</style>\n",
       "<table border=\"1\" class=\"dataframe\">\n",
       "  <thead>\n",
       "    <tr style=\"text-align: right;\">\n",
       "      <th></th>\n",
       "      <th>name</th>\n",
       "      <th>rank</th>\n",
       "      <th>country</th>\n",
       "      <th>place</th>\n",
       "      <th>score</th>\n",
       "      <th>fav_language</th>\n",
       "      <th>exp</th>\n",
       "    </tr>\n",
       "    <tr>\n",
       "      <th>user</th>\n",
       "      <th></th>\n",
       "      <th></th>\n",
       "      <th></th>\n",
       "      <th></th>\n",
       "      <th></th>\n",
       "      <th></th>\n",
       "      <th></th>\n",
       "    </tr>\n",
       "  </thead>\n",
       "  <tbody>\n",
       "    <tr>\n",
       "      <th>1</th>\n",
       "      <td>HIR180</td>\n",
       "      <td>Legendary Grandmaster</td>\n",
       "      <td>Japan</td>\n",
       "      <td>39.636364</td>\n",
       "      <td>161.363636</td>\n",
       "      <td>c++</td>\n",
       "      <td>11</td>\n",
       "    </tr>\n",
       "    <tr>\n",
       "      <th>2</th>\n",
       "      <td>9623</td>\n",
       "      <td>International Master</td>\n",
       "      <td>Antarctica</td>\n",
       "      <td>42.000000</td>\n",
       "      <td>159.000000</td>\n",
       "      <td>c++</td>\n",
       "      <td>4</td>\n",
       "    </tr>\n",
       "    <tr>\n",
       "      <th>3</th>\n",
       "      <td>stasio6</td>\n",
       "      <td>International Master</td>\n",
       "      <td>Poland</td>\n",
       "      <td>27.500000</td>\n",
       "      <td>173.500000</td>\n",
       "      <td>c++</td>\n",
       "      <td>2</td>\n",
       "    </tr>\n",
       "    <tr>\n",
       "      <th>4</th>\n",
       "      <td>sigma425</td>\n",
       "      <td>International Grandmaster</td>\n",
       "      <td>Japan</td>\n",
       "      <td>39.000000</td>\n",
       "      <td>162.000000</td>\n",
       "      <td>c++</td>\n",
       "      <td>7</td>\n",
       "    </tr>\n",
       "    <tr>\n",
       "      <th>5</th>\n",
       "      <td>jiangly</td>\n",
       "      <td>Legendary Grandmaster</td>\n",
       "      <td>China</td>\n",
       "      <td>27.571429</td>\n",
       "      <td>173.428571</td>\n",
       "      <td>c++</td>\n",
       "      <td>63</td>\n",
       "    </tr>\n",
       "    <tr>\n",
       "      <th>...</th>\n",
       "      <td>...</td>\n",
       "      <td>...</td>\n",
       "      <td>...</td>\n",
       "      <td>...</td>\n",
       "      <td>...</td>\n",
       "      <td>...</td>\n",
       "      <td>...</td>\n",
       "    </tr>\n",
       "    <tr>\n",
       "      <th>13876</th>\n",
       "      <td>DoIudu123</td>\n",
       "      <td>Newbie</td>\n",
       "      <td>Taiwan</td>\n",
       "      <td>163.000000</td>\n",
       "      <td>38.000000</td>\n",
       "      <td>c++</td>\n",
       "      <td>1</td>\n",
       "    </tr>\n",
       "    <tr>\n",
       "      <th>13877</th>\n",
       "      <td>logicccc</td>\n",
       "      <td>Unrated</td>\n",
       "      <td>NaN</td>\n",
       "      <td>166.000000</td>\n",
       "      <td>35.000000</td>\n",
       "      <td>c++</td>\n",
       "      <td>1</td>\n",
       "    </tr>\n",
       "    <tr>\n",
       "      <th>13878</th>\n",
       "      <td>EasyMode</td>\n",
       "      <td>Expert</td>\n",
       "      <td>Brazil</td>\n",
       "      <td>174.000000</td>\n",
       "      <td>27.000000</td>\n",
       "      <td>c++</td>\n",
       "      <td>1</td>\n",
       "    </tr>\n",
       "    <tr>\n",
       "      <th>13879</th>\n",
       "      <td>foolish</td>\n",
       "      <td>Candidate Master</td>\n",
       "      <td>China</td>\n",
       "      <td>178.000000</td>\n",
       "      <td>23.000000</td>\n",
       "      <td>c++</td>\n",
       "      <td>1</td>\n",
       "    </tr>\n",
       "    <tr>\n",
       "      <th>13880</th>\n",
       "      <td>el.duivel</td>\n",
       "      <td>Expert</td>\n",
       "      <td>Bangladesh</td>\n",
       "      <td>192.000000</td>\n",
       "      <td>9.000000</td>\n",
       "      <td>c++</td>\n",
       "      <td>1</td>\n",
       "    </tr>\n",
       "  </tbody>\n",
       "</table>\n",
       "<p>13880 rows × 7 columns</p>\n",
       "</div>"
      ],
      "text/plain": [
       "            name                       rank     country       place  \\\n",
       "user                                                                  \n",
       "1         HIR180      Legendary Grandmaster       Japan   39.636364   \n",
       "2           9623       International Master  Antarctica   42.000000   \n",
       "3        stasio6       International Master      Poland   27.500000   \n",
       "4       sigma425  International Grandmaster       Japan   39.000000   \n",
       "5        jiangly      Legendary Grandmaster       China   27.571429   \n",
       "...          ...                        ...         ...         ...   \n",
       "13876  DoIudu123                     Newbie      Taiwan  163.000000   \n",
       "13877   logicccc                    Unrated         NaN  166.000000   \n",
       "13878   EasyMode                     Expert      Brazil  174.000000   \n",
       "13879    foolish           Candidate Master       China  178.000000   \n",
       "13880  el.duivel                     Expert  Bangladesh  192.000000   \n",
       "\n",
       "            score fav_language  exp  \n",
       "user                                 \n",
       "1      161.363636          c++   11  \n",
       "2      159.000000          c++    4  \n",
       "3      173.500000          c++    2  \n",
       "4      162.000000          c++    7  \n",
       "5      173.428571          c++   63  \n",
       "...           ...          ...  ...  \n",
       "13876   38.000000          c++    1  \n",
       "13877   35.000000          c++    1  \n",
       "13878   27.000000          c++    1  \n",
       "13879   23.000000          c++    1  \n",
       "13880    9.000000          c++    1  \n",
       "\n",
       "[13880 rows x 7 columns]"
      ]
     },
     "execution_count": 22,
     "metadata": {},
     "output_type": "execute_result"
    }
   ],
   "source": [
    "users[\"exp\"] = contestants.groupby(\"user\")[\"contest\"].count()\n",
    "users"
   ]
  },
  {
   "cell_type": "markdown",
   "metadata": {},
   "source": [
    "Izkušnje so med 1 in 200, saj imamo podatke le o 200 tekmovanjih (V resnici nihče ni bil na več kot 66 tekmovanjih). Uporabnike tako lahko združimo v skupine glede na to, koliko izkušenj imajo, nato pa za vsako skupino izračunamo povprečen uspeh (score).  \n",
    "Spodnja tabela in diagram prikazujeta, kako je uspeh odvisen od izkušenj."
   ]
  },
  {
   "cell_type": "code",
   "execution_count": 23,
   "metadata": {},
   "outputs": [
    {
     "data": {
      "text/html": [
       "<div>\n",
       "<style scoped>\n",
       "    .dataframe tbody tr th:only-of-type {\n",
       "        vertical-align: middle;\n",
       "    }\n",
       "\n",
       "    .dataframe tbody tr th {\n",
       "        vertical-align: top;\n",
       "    }\n",
       "\n",
       "    .dataframe thead th {\n",
       "        text-align: right;\n",
       "    }\n",
       "</style>\n",
       "<table border=\"1\" class=\"dataframe\">\n",
       "  <thead>\n",
       "    <tr style=\"text-align: right;\">\n",
       "      <th></th>\n",
       "      <th>exp</th>\n",
       "      <th>score</th>\n",
       "    </tr>\n",
       "  </thead>\n",
       "  <tbody>\n",
       "    <tr>\n",
       "      <th>0</th>\n",
       "      <td>1</td>\n",
       "      <td>94.636279</td>\n",
       "    </tr>\n",
       "    <tr>\n",
       "      <th>1</th>\n",
       "      <td>2</td>\n",
       "      <td>98.447879</td>\n",
       "    </tr>\n",
       "    <tr>\n",
       "      <th>2</th>\n",
       "      <td>3</td>\n",
       "      <td>97.588235</td>\n",
       "    </tr>\n",
       "    <tr>\n",
       "      <th>3</th>\n",
       "      <td>4</td>\n",
       "      <td>96.094901</td>\n",
       "    </tr>\n",
       "    <tr>\n",
       "      <th>4</th>\n",
       "      <td>5</td>\n",
       "      <td>94.204706</td>\n",
       "    </tr>\n",
       "    <tr>\n",
       "      <th>...</th>\n",
       "      <td>...</td>\n",
       "      <td>...</td>\n",
       "    </tr>\n",
       "    <tr>\n",
       "      <th>46</th>\n",
       "      <td>51</td>\n",
       "      <td>135.549020</td>\n",
       "    </tr>\n",
       "    <tr>\n",
       "      <th>47</th>\n",
       "      <td>52</td>\n",
       "      <td>136.653846</td>\n",
       "    </tr>\n",
       "    <tr>\n",
       "      <th>48</th>\n",
       "      <td>55</td>\n",
       "      <td>136.727273</td>\n",
       "    </tr>\n",
       "    <tr>\n",
       "      <th>49</th>\n",
       "      <td>62</td>\n",
       "      <td>141.258065</td>\n",
       "    </tr>\n",
       "    <tr>\n",
       "      <th>50</th>\n",
       "      <td>63</td>\n",
       "      <td>173.428571</td>\n",
       "    </tr>\n",
       "  </tbody>\n",
       "</table>\n",
       "<p>51 rows × 2 columns</p>\n",
       "</div>"
      ],
      "text/plain": [
       "    exp       score\n",
       "0     1   94.636279\n",
       "1     2   98.447879\n",
       "2     3   97.588235\n",
       "3     4   96.094901\n",
       "4     5   94.204706\n",
       "..  ...         ...\n",
       "46   51  135.549020\n",
       "47   52  136.653846\n",
       "48   55  136.727273\n",
       "49   62  141.258065\n",
       "50   63  173.428571\n",
       "\n",
       "[51 rows x 2 columns]"
      ]
     },
     "execution_count": 23,
     "metadata": {},
     "output_type": "execute_result"
    },
    {
     "data": {
      "image/png": "[encoded data removed]",
      "text/plain": [
       "<Figure size 432x288 with 1 Axes>"
      ]
     },
     "metadata": {
      "needs_background": "light"
     },
     "output_type": "display_data"
    }
   ],
   "source": [
    "score_by_exp = users.groupby(\"exp\", as_index=False)[[\"exp\", \"score\"]].mean()\n",
    "score_by_exp.plot.scatter(\"exp\", \"score\")\n",
    "score_by_exp"
   ]
  },
  {
   "cell_type": "markdown",
   "metadata": {},
   "source": [
    "Vidimo, da uspeh narašča z izkušnjami (zgleda linearno). Torej je udeležba na tekmovanjih učinkovit način učenja."
   ]
  },
  {
   "cell_type": "markdown",
   "metadata": {},
   "source": [
    "Seveda obstaja tudi na codeforces sistem zbiranja točk, ki deluje na osnovi uvrstitev na starih tekmovanjih. Uporabniki z višjim številom točk so višjega ranga. Zanimivo bi bilo videti, kako se naš sistem primerja s tem."
   ]
  },
  {
   "cell_type": "code",
   "execution_count": 24,
   "metadata": {
    "scrolled": false
   },
   "outputs": [
    {
     "data": {
      "text/html": [
       "<div>\n",
       "<style scoped>\n",
       "    .dataframe tbody tr th:only-of-type {\n",
       "        vertical-align: middle;\n",
       "    }\n",
       "\n",
       "    .dataframe tbody tr th {\n",
       "        vertical-align: top;\n",
       "    }\n",
       "\n",
       "    .dataframe thead th {\n",
       "        text-align: right;\n",
       "    }\n",
       "</style>\n",
       "<table border=\"1\" class=\"dataframe\">\n",
       "  <thead>\n",
       "    <tr style=\"text-align: right;\">\n",
       "      <th></th>\n",
       "      <th>rank</th>\n",
       "      <th>score</th>\n",
       "    </tr>\n",
       "  </thead>\n",
       "  <tbody>\n",
       "    <tr>\n",
       "      <th>6</th>\n",
       "      <td>Master</td>\n",
       "      <td>91.901130</td>\n",
       "    </tr>\n",
       "    <tr>\n",
       "      <th>1</th>\n",
       "      <td>Expert</td>\n",
       "      <td>92.034284</td>\n",
       "    </tr>\n",
       "    <tr>\n",
       "      <th>9</th>\n",
       "      <td>Specialist</td>\n",
       "      <td>93.834642</td>\n",
       "    </tr>\n",
       "    <tr>\n",
       "      <th>4</th>\n",
       "      <td>International Master</td>\n",
       "      <td>95.518757</td>\n",
       "    </tr>\n",
       "    <tr>\n",
       "      <th>8</th>\n",
       "      <td>Pupil</td>\n",
       "      <td>96.797787</td>\n",
       "    </tr>\n",
       "    <tr>\n",
       "      <th>0</th>\n",
       "      <td>Candidate Master</td>\n",
       "      <td>97.970953</td>\n",
       "    </tr>\n",
       "    <tr>\n",
       "      <th>2</th>\n",
       "      <td>Grandmaster</td>\n",
       "      <td>106.817379</td>\n",
       "    </tr>\n",
       "    <tr>\n",
       "      <th>7</th>\n",
       "      <td>Newbie</td>\n",
       "      <td>108.121115</td>\n",
       "    </tr>\n",
       "    <tr>\n",
       "      <th>3</th>\n",
       "      <td>International Grandmaster</td>\n",
       "      <td>130.329868</td>\n",
       "    </tr>\n",
       "    <tr>\n",
       "      <th>5</th>\n",
       "      <td>Legendary Grandmaster</td>\n",
       "      <td>165.593408</td>\n",
       "    </tr>\n",
       "  </tbody>\n",
       "</table>\n",
       "</div>"
      ],
      "text/plain": [
       "                        rank       score\n",
       "6                     Master   91.901130\n",
       "1                     Expert   92.034284\n",
       "9                 Specialist   93.834642\n",
       "4       International Master   95.518757\n",
       "8                      Pupil   96.797787\n",
       "0           Candidate Master   97.970953\n",
       "2                Grandmaster  106.817379\n",
       "7                     Newbie  108.121115\n",
       "3  International Grandmaster  130.329868\n",
       "5      Legendary Grandmaster  165.593408"
      ]
     },
     "execution_count": 24,
     "metadata": {},
     "output_type": "execute_result"
    },
    {
     "data": {
      "image/png": "[encoded data removed]",
      "text/plain": [
       "<Figure size 432x288 with 1 Axes>"
      ]
     },
     "metadata": {
      "needs_background": "light"
     },
     "output_type": "display_data"
    }
   ],
   "source": [
    "only_rated = users[users[\"rank\"] != \"Unrated\"]\n",
    "score_by_rank = only_rated[[\"rank\", \"score\"]].groupby(\"rank\", as_index=False).mean().sort_values(\"score\", ascending=True)\n",
    "score_by_rank.plot.bar(x=\"rank\", y=\"score\")\n",
    "score_by_rank"
   ]
  },
  {
   "cell_type": "markdown",
   "metadata": {},
   "source": [
    "Vidimo, da je rang *Newbie* precej visoko. Morda si nekateri ustvarijo nove račune in tekmujejo z njimi, tako so potem nizki rangi zelo uspešni. Tudi rank *Pupil* je nekoliko visoko, *Master* pa je nekoliko nizko. Razen teh nekaj anomalij pa se oba sistema točkovanj dokaj ujemata."
   ]
  },
  {
   "cell_type": "markdown",
   "metadata": {},
   "source": [
    "## Zakljiček"
   ]
  },
  {
   "cell_type": "markdown",
   "metadata": {},
   "source": [
    "Ugotovili smo, da so dobri programerji enakomerno razporejeni po svetu. Seveda jih je več v državah, ki imajo tudi večjo populacijo.  \n",
    "Velika večina tekmovalcev najraje programira v programskem jeziku c++, zelo malo pa v pythonu.  \n",
    "Vaja in udeležba na tekmovanjih sta zelo hiter način napredovanja in učenja programiranja. To velja tudi za tiste, ki so že zelo dobri. V podatkih so bili zajeti le najboljši tekmovalci, pa je vseeno bila vidna močna zveza med številom udeleženih tekmovanj in rezultatom.  \n",
    "Obstaja zveza med tem kako hitro tekmovalec rešuje naloge in kako težke naloge lahko reši. To je seveda smiselno, boljši kot je tekmovalec, manj mu je treba razmišljati pri lahkih nalogah. Poleg tega ima, kot smo ugotovili, verjetno za sabo že veliko programerskih izkušenj in se mu lahke naloge zdijo mehanske.\n"
   ]
  },
  {
   "cell_type": "code",
   "execution_count": null,
   "metadata": {},
   "outputs": [],
   "source": []
  }
 ],
 "metadata": {
  "kernelspec": {
   "display_name": "Python 3",
   "language": "python",
   "name": "python3"
  },
  "language_info": {
   "codemirror_mode": {
    "name": "ipython",
    "version": 3
   },
   "file_extension": ".py",
   "mimetype": "text/x-python",
   "name": "python",
   "nbconvert_exporter": "python",
   "pygments_lexer": "ipython3",
   "version": "3.8.1"
  }
 },
 "nbformat": 4,
 "nbformat_minor": 4
}
